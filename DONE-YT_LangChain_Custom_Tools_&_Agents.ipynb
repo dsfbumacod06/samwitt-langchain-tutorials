{
  "cells": [
    {
      "cell_type": "code",
      "execution_count": 2,
      "id": "uZR3iGJJtdDE",
      "metadata": {
        "colab": {
          "base_uri": "https://localhost:8080/"
        },
        "id": "uZR3iGJJtdDE",
        "outputId": "0e41d944-ded0-4129-e303-abf2cdba7362"
      },
      "outputs": [],
      "source": [
        "# !pip -q install langchain==0.0.150 openai \n",
        "# !pip -q install duckduckgo-search --user"
      ]
    },
    {
      "cell_type": "markdown",
      "id": "wPdWz1IdxyBR",
      "metadata": {
        "id": "wPdWz1IdxyBR"
      },
      "source": [
        "Setting up some keys"
      ]
    },
    {
      "cell_type": "code",
      "execution_count": null,
      "id": "0k_oRniCLjpN",
      "metadata": {
        "colab": {
          "base_uri": "https://localhost:8080/"
        },
        "id": "0k_oRniCLjpN",
        "outputId": "c74b943c-5750-4186-915f-179154758143"
      },
      "outputs": [
        {
          "name": "stdout",
          "output_type": "stream",
          "text": [
            "Name: langchain\n",
            "Version: 0.0.150\n",
            "Summary: Building applications with LLMs through composability\n",
            "Home-page: https://www.github.com/hwchase17/langchain\n",
            "Author: \n",
            "Author-email: \n",
            "License: MIT\n",
            "Location: /usr/local/lib/python3.10/dist-packages\n",
            "Requires: aiohttp, async-timeout, dataclasses-json, numexpr, numpy, openapi-schema-pydantic, pydantic, PyYAML, requests, SQLAlchemy, tenacity, tqdm\n",
            "Required-by: \n"
          ]
        }
      ],
      "source": [
        "# !pip show langchain"
      ]
    },
    {
      "cell_type": "markdown",
      "id": "1571b632",
      "metadata": {
        "id": "1571b632"
      },
      "source": [
        "\n",
        "# Custom Tools & Agents 🤖"
      ]
    },
    {
      "cell_type": "code",
      "execution_count": 3,
      "id": "c02c4fa2",
      "metadata": {
        "id": "c02c4fa2"
      },
      "outputs": [
        {
          "data": {
            "text/plain": [
              "True"
            ]
          },
          "execution_count": 3,
          "metadata": {},
          "output_type": "execute_result"
        }
      ],
      "source": [
        "#@title Keys\n",
        "\n",
        "# import os\n",
        "\n",
        "# os.environ[\"OPENAI_API_KEY\"] = \"\"\n",
        "from dotenv import load_dotenv\n",
        "load_dotenv()"
      ]
    },
    {
      "cell_type": "code",
      "execution_count": 4,
      "id": "73bfcbb6",
      "metadata": {
        "id": "73bfcbb6"
      },
      "outputs": [],
      "source": [
        "from langchain import OpenAI \n",
        "from langchain.chat_models import ChatOpenAI\n",
        "from langchain.chains.conversation.memory import ConversationBufferWindowMemory\n",
        "from langchain.chains.conversation.memory import ConversationBufferMemory"
      ]
    },
    {
      "cell_type": "code",
      "execution_count": 5,
      "id": "Lald4gCltB4V",
      "metadata": {
        "id": "Lald4gCltB4V"
      },
      "outputs": [],
      "source": [
        "# Set up the turbo LLM\n",
        "turbo_llm = ChatOpenAI(\n",
        "    temperature=0,\n",
        "    model_name='gpt-3.5-turbo'\n",
        ")"
      ]
    },
    {
      "cell_type": "markdown",
      "id": "7DKXFGHhxNcK",
      "metadata": {
        "id": "7DKXFGHhxNcK"
      },
      "source": [
        "## Standard Tool"
      ]
    },
    {
      "cell_type": "code",
      "execution_count": 6,
      "id": "kOVncXZtxT_0",
      "metadata": {
        "id": "kOVncXZtxT_0"
      },
      "outputs": [],
      "source": [
        "# from langchain.tools import DuckDuckGoSearchTool\n",
        "from langchain.tools import DuckDuckGoSearchRun\n",
        "from langchain.agents import Tool\n",
        "from langchain.tools import BaseTool\n",
        "\n",
        "# search = DuckDuckGoSearchTool()\n",
        "search = DuckDuckGoSearchRun()\n",
        "# defining a single tool\n",
        "tools = [\n",
        "    Tool(\n",
        "        name = \"search\",\n",
        "        func=search.run,\n",
        "        description=\"useful for when you need to answer questions about current events. You should ask targeted questions\"\n",
        "    )\n",
        "]"
      ]
    },
    {
      "cell_type": "markdown",
      "id": "LkEwDPN3uPvD",
      "metadata": {
        "id": "LkEwDPN3uPvD"
      },
      "source": [
        "## Custom tools"
      ]
    },
    {
      "cell_type": "code",
      "execution_count": 7,
      "id": "RYXpc6B9uUDo",
      "metadata": {
        "id": "RYXpc6B9uUDo"
      },
      "outputs": [],
      "source": [
        "def meaning_of_life(input=\"\"):\n",
        "    return 'The meaning of life is 42 if rounded but is actually 42.17658'"
      ]
    },
    {
      "cell_type": "code",
      "execution_count": 8,
      "id": "9Krov3FluULJ",
      "metadata": {
        "id": "9Krov3FluULJ"
      },
      "outputs": [],
      "source": [
        "\n",
        "life_tool = Tool(\n",
        "    name='Meaning of Life',\n",
        "    func= meaning_of_life,\n",
        "    description=\"Useful for when you need to answer questions about the meaning of life. input should be MOL \"\n",
        ")"
      ]
    },
    {
      "cell_type": "markdown",
      "id": "yBLba0mTxnkM",
      "metadata": {
        "id": "yBLba0mTxnkM"
      },
      "source": [
        "## Random number"
      ]
    },
    {
      "cell_type": "code",
      "execution_count": 9,
      "id": "OvPAX5Byxp-7",
      "metadata": {
        "id": "OvPAX5Byxp-7"
      },
      "outputs": [],
      "source": [
        "import random\n",
        "\n",
        "def random_num(input=\"\"):\n",
        "    return random.randint(0,5)"
      ]
    },
    {
      "cell_type": "code",
      "execution_count": 10,
      "id": "c2ryltDax7nD",
      "metadata": {
        "colab": {
          "base_uri": "https://localhost:8080/"
        },
        "id": "c2ryltDax7nD",
        "outputId": "887889f7-7264-4f20-a51a-e39c6d83a7dc"
      },
      "outputs": [
        {
          "data": {
            "text/plain": [
              "0"
            ]
          },
          "execution_count": 10,
          "metadata": {},
          "output_type": "execute_result"
        }
      ],
      "source": [
        "random_num()"
      ]
    },
    {
      "cell_type": "code",
      "execution_count": 11,
      "id": "fQVQNtkDyHDV",
      "metadata": {
        "id": "fQVQNtkDyHDV"
      },
      "outputs": [],
      "source": [
        "random_tool = Tool(\n",
        "    name='Random number',\n",
        "    func= random_num,\n",
        "    description=\"Useful for when you need to get a random number. input should be 'random'\"\n",
        ")"
      ]
    },
    {
      "cell_type": "markdown",
      "id": "6e1f31b4",
      "metadata": {
        "id": "6e1f31b4"
      },
      "source": [
        "## Creating an agent"
      ]
    },
    {
      "cell_type": "code",
      "execution_count": 12,
      "id": "cskGNptztxaf",
      "metadata": {
        "id": "cskGNptztxaf"
      },
      "outputs": [],
      "source": [
        "from langchain.agents import initialize_agent\n",
        "\n",
        "tools = [search, random_tool, life_tool]\n",
        "\n",
        "# conversational agent memory\n",
        "memory2 = ConversationBufferMemory(memory_key='chat_history',return_messages=True)\n",
        "memory = ConversationBufferWindowMemory(\n",
        "    memory_key='chat_history',\n",
        "    k=3,\n",
        "    return_messages=True\n",
        ")\n",
        "\n",
        "\n",
        "# create our agent\n",
        "conversational_agent = initialize_agent(\n",
        "    agent='chat-conversational-react-description',\n",
        "    tools=tools,\n",
        "    llm=turbo_llm,\n",
        "    verbose=True,\n",
        "    max_iterations=3,\n",
        "    early_stopping_method='generate',\n",
        "    memory=memory2\n",
        ")"
      ]
    },
    {
      "cell_type": "code",
      "execution_count": 17,
      "id": "uB2qtbC6rVnh",
      "metadata": {
        "colab": {
          "base_uri": "https://localhost:8080/"
        },
        "id": "uB2qtbC6rVnh",
        "outputId": "2b2d9b1f-698d-4595-ab9e-d30f629babc2"
      },
      "outputs": [
        {
          "name": "stdout",
          "output_type": "stream",
          "text": [
            "\n",
            "\n",
            "\u001b[1m> Entering new AgentExecutor chain...\u001b[0m\n",
            "\u001b[32;1m\u001b[1;3m{\n",
            "    \"action\": \"duckduckgo_search\",\n",
            "    \"action_input\": \"current time in London\"\n",
            "}\u001b[0m\n",
            "Observation: \u001b[36;1m\u001b[1;3mCurrent local time in United Kingdom - England - London. Get London's weather and area codes, time zone and DST. Explore London's sunrise and sunset, moonrise and moonset. The current local time in London is 58 minutes ahead of apparent solar time. London on the map. London is the capital of United Kingdom. Latitude: 51.51. Longitude: -0.13; Population: 8,962,000; Open London in Google Maps. Best restaurants in London #1 Masala Inn - Indian and asian food The graph above illustrates clock changes in London during 2023. London in GMT Time Zone. London uses Greenwich Mean Time (GMT) during standard time and British Summer Time (BST) during Daylight Saving Time (DST), or summer time.. The Difference between GMT and UTC. In practice, GMT and UTC share the same time on a clock, which can cause them to be interchanged or confused. Current local time in London and DST dates in 2023. Local time--:--BST . London time change . Next time change is in 1 month and 17 days, set your clock back 1 hour. London summer time (DST) in 2023. Daylight saving time 2023 in London begins at 1:00 AM on Sunday, March 26 ... 7 million locations, 57 languages, synchronized with atomic clock time. ... London 09:15AM; New York 04:15AM; Los Angeles 01:15AM; ... Time.is displays exact, official atomic clock time for any time zone (more than 7 million locations) in 57 languages. What time is it?\u001b[0m\n",
            "Thought:\u001b[32;1m\u001b[1;3m{\n",
            "    \"action\": \"Final Answer\",\n",
            "    \"action_input\": \"The current local time in London is 58 minutes ahead of apparent solar time.\"\n",
            "}\u001b[0m\n",
            "\n",
            "\u001b[1m> Finished chain.\u001b[0m\n"
          ]
        },
        {
          "data": {
            "text/plain": [
              "{'input': 'What time is it in London?',\n",
              " 'chat_history': [],\n",
              " 'output': 'The current local time in London is 58 minutes ahead of apparent solar time.'}"
            ]
          },
          "execution_count": 17,
          "metadata": {},
          "output_type": "execute_result"
        }
      ],
      "source": [
        "\n",
        "conversational_agent(\"What time is it in London?\")"
      ]
    },
    {
      "cell_type": "code",
      "execution_count": 18,
      "id": "7skNxOP1q5vw",
      "metadata": {
        "colab": {
          "base_uri": "https://localhost:8080/"
        },
        "id": "7skNxOP1q5vw",
        "outputId": "1b88853a-b3a1-4045-eeba-2615f2d25b57"
      },
      "outputs": [
        {
          "name": "stdout",
          "output_type": "stream",
          "text": [
            "\n",
            "\n",
            "\u001b[1m> Entering new AgentExecutor chain...\u001b[0m\n",
            "\u001b[32;1m\u001b[1;3m{\n",
            "    \"action\": \"Random number\",\n",
            "    \"action_input\": \"random\"\n",
            "}\u001b[0m\n",
            "Observation: \u001b[33;1m\u001b[1;3m0\u001b[0m\n",
            "Thought:\u001b[32;1m\u001b[1;3m{\n",
            "    \"action\": \"Final Answer\",\n",
            "    \"action_input\": \"The response to your last comment was 0.\"\n",
            "}\u001b[0m\n",
            "\n",
            "\u001b[1m> Finished chain.\u001b[0m\n"
          ]
        },
        {
          "data": {
            "text/plain": [
              "{'input': 'Can you give me a random number?',\n",
              " 'chat_history': [HumanMessage(content='What time is it in London?', additional_kwargs={}, example=False),\n",
              "  AIMessage(content='The current local time in London is 58 minutes ahead of apparent solar time.', additional_kwargs={}, example=False)],\n",
              " 'output': 'The response to your last comment was 0.'}"
            ]
          },
          "execution_count": 18,
          "metadata": {},
          "output_type": "execute_result"
        }
      ],
      "source": [
        "\n",
        "conversational_agent(\"Can you give me a random number?\")"
      ]
    },
    {
      "cell_type": "code",
      "execution_count": 19,
      "id": "Ofb8jlywrqmQ",
      "metadata": {
        "colab": {
          "base_uri": "https://localhost:8080/"
        },
        "id": "Ofb8jlywrqmQ",
        "outputId": "ded4336b-0b92-48da-d7d7-493c125240d4"
      },
      "outputs": [
        {
          "name": "stdout",
          "output_type": "stream",
          "text": [
            "\n",
            "\n",
            "\u001b[1m> Entering new AgentExecutor chain...\u001b[0m\n",
            "\u001b[32;1m\u001b[1;3m{\n",
            "    \"action\": \"Meaning of Life\",\n",
            "    \"action_input\": \"MOL\"\n",
            "}\u001b[0m\n",
            "Observation: \u001b[38;5;200m\u001b[1;3mThe meaning of life is 42 if rounded but is actually 42.17658\u001b[0m\n",
            "Thought:\u001b[32;1m\u001b[1;3m{\n",
            "    \"action\": \"Final Answer\",\n",
            "    \"action_input\": \"The meaning of life is 42 if rounded but is actually 42.17658\"\n",
            "}\u001b[0m\n",
            "\n",
            "\u001b[1m> Finished chain.\u001b[0m\n"
          ]
        },
        {
          "data": {
            "text/plain": [
              "{'input': 'What is the meaning of life?',\n",
              " 'chat_history': [HumanMessage(content='What time is it in London?', additional_kwargs={}, example=False),\n",
              "  AIMessage(content='The current local time in London is 58 minutes ahead of apparent solar time.', additional_kwargs={}, example=False),\n",
              "  HumanMessage(content='Can you give me a random number?', additional_kwargs={}, example=False),\n",
              "  AIMessage(content='The response to your last comment was 0.', additional_kwargs={}, example=False)],\n",
              " 'output': 'The meaning of life is 42 if rounded but is actually 42.17658'}"
            ]
          },
          "execution_count": 19,
          "metadata": {},
          "output_type": "execute_result"
        }
      ],
      "source": [
        "conversational_agent(\"What is the meaning of life?\")"
      ]
    },
    {
      "cell_type": "code",
      "execution_count": 20,
      "id": "q6VHBocdq6BK",
      "metadata": {
        "colab": {
          "base_uri": "https://localhost:8080/",
          "height": 174
        },
        "id": "q6VHBocdq6BK",
        "outputId": "2432683d-2588-41d0-b148-84e3fcb58966"
      },
      "outputs": [
        {
          "data": {
            "text/plain": [
              "'Assistant is a large language model trained by OpenAI.\\n\\nAssistant is designed to be able to assist with a wide range of tasks, from answering simple questions to providing in-depth explanations and discussions on a wide range of topics. As a language model, Assistant is able to generate human-like text based on the input it receives, allowing it to engage in natural-sounding conversations and provide responses that are coherent and relevant to the topic at hand.\\n\\nAssistant is constantly learning and improving, and its capabilities are constantly evolving. It is able to process and understand large amounts of text, and can use this knowledge to provide accurate and informative responses to a wide range of questions. Additionally, Assistant is able to generate its own text based on the input it receives, allowing it to engage in discussions and provide explanations and descriptions on a wide range of topics.\\n\\nOverall, Assistant is a powerful system that can help with a wide range of tasks and provide valuable insights and information on a wide range of topics. Whether you need help with a specific question or just want to have a conversation about a particular topic, Assistant is here to assist.'"
            ]
          },
          "execution_count": 20,
          "metadata": {},
          "output_type": "execute_result"
        }
      ],
      "source": [
        "# system prompt\n",
        "conversational_agent.agent.llm_chain.prompt.messages[0].prompt.template"
      ]
    },
    {
      "cell_type": "markdown",
      "id": "VZ22ia6VCjf-",
      "metadata": {
        "id": "VZ22ia6VCjf-"
      },
      "source": [
        "Assistant is a large language model trained by OpenAI.\n",
        "\n",
        "Assistant is designed to be able to assist with a wide range of tasks, from answering simple questions to providing in-depth explanations and discussions on a wide range of topics. As a language model, Assistant is able to generate human-like text based on the input it receives, allowing it to engage in natural-sounding conversations and provide responses that are coherent and relevant to the topic at hand.\n",
        "\n",
        "Assistant is constantly learning and improving, and its capabilities are constantly evolving. It is able to process and understand large amounts of text, and can use this knowledge to provide accurate and informative responses to a wide range of questions. Additionally, Assistant is able to generate its own text based on the input it receives, allowing it to engage in discussions and provide explanations and descriptions on a wide range of topics.\n",
        "\n",
        "Overall, Assistant is a powerful system that can help with a wide range of tasks and provide valuable insights and information on a wide range of topics. Whether you need help with a specific question or just want to have a conversation about a particular topic, Assistant is here to assist."
      ]
    },
    {
      "cell_type": "code",
      "execution_count": 13,
      "id": "xuCF3bzDsLUv",
      "metadata": {
        "id": "xuCF3bzDsLUv"
      },
      "outputs": [],
      "source": [
        "fixed_prompt = '''Assistant is a large language model trained by OpenAI.\n",
        "\n",
        "Assistant is designed to be able to assist with a wide range of tasks, from answering simple questions to providing in-depth explanations and discussions on a wide range of topics. As a language model, Assistant is able to generate human-like text based on the input it receives, allowing it to engage in natural-sounding conversations and provide responses that are coherent and relevant to the topic at hand.\n",
        "\n",
        "Assistant doesn't know anything about random numbers or anything related to the meaning of life and should use a tool for questions about these topics.\n",
        "\n",
        "Assistant is constantly learning and improving, and its capabilities are constantly evolving. It is able to process and understand large amounts of text, and can use this knowledge to provide accurate and informative responses to a wide range of questions. Additionally, Assistant is able to generate its own text based on the input it receives, allowing it to engage in discussions and provide explanations and descriptions on a wide range of topics.\n",
        "\n",
        "Overall, Assistant is a powerful system that can help with a wide range of tasks and provide valuable insights and information on a wide range of topics. Whether you need help with a specific question or just want to have a conversation about a particular topic, Assistant is here to assist.'''"
      ]
    },
    {
      "cell_type": "code",
      "execution_count": 22,
      "id": "zZBP6l2EsIT5",
      "metadata": {
        "id": "zZBP6l2EsIT5"
      },
      "outputs": [],
      "source": [
        "conversational_agent.agent.llm_chain.prompt.messages[0].prompt.template = fixed_prompt"
      ]
    },
    {
      "cell_type": "code",
      "execution_count": 23,
      "id": "ruvBzhQatDsQ",
      "metadata": {
        "colab": {
          "base_uri": "https://localhost:8080/"
        },
        "id": "ruvBzhQatDsQ",
        "outputId": "92c33218-899d-474c-accc-48a7445dbd9f"
      },
      "outputs": [
        {
          "name": "stdout",
          "output_type": "stream",
          "text": [
            "\n",
            "\n",
            "\u001b[1m> Entering new AgentExecutor chain...\u001b[0m\n",
            "\u001b[32;1m\u001b[1;3m{\n",
            "    \"action\": \"Meaning of Life\",\n",
            "    \"action_input\": \"MOL\"\n",
            "}\u001b[0m\n",
            "Observation: \u001b[38;5;200m\u001b[1;3mThe meaning of life is 42 if rounded but is actually 42.17658\u001b[0m\n",
            "Thought:\u001b[32;1m\u001b[1;3m{\n",
            "    \"action\": \"Final Answer\",\n",
            "    \"action_input\": \"The meaning of life is 42 if rounded but is actually 42.17658\"\n",
            "}\u001b[0m\n",
            "\n",
            "\u001b[1m> Finished chain.\u001b[0m\n"
          ]
        },
        {
          "data": {
            "text/plain": [
              "{'input': 'What is the meaning of life?',\n",
              " 'chat_history': [HumanMessage(content='What time is it in London?', additional_kwargs={}, example=False),\n",
              "  AIMessage(content='The current local time in London is 58 minutes ahead of apparent solar time.', additional_kwargs={}, example=False),\n",
              "  HumanMessage(content='Can you give me a random number?', additional_kwargs={}, example=False),\n",
              "  AIMessage(content='The response to your last comment was 0.', additional_kwargs={}, example=False),\n",
              "  HumanMessage(content='What is the meaning of life?', additional_kwargs={}, example=False),\n",
              "  AIMessage(content='The meaning of life is 42 if rounded but is actually 42.17658', additional_kwargs={}, example=False)],\n",
              " 'output': 'The meaning of life is 42 if rounded but is actually 42.17658'}"
            ]
          },
          "execution_count": 23,
          "metadata": {},
          "output_type": "execute_result"
        }
      ],
      "source": [
        "conversational_agent(\"What is the meaning of life?\")"
      ]
    },
    {
      "cell_type": "markdown",
      "id": "RLf1c3ejtyC4",
      "metadata": {
        "id": "RLf1c3ejtyC4"
      },
      "source": [
        "## Using the Tool Class - lets make a useful tool\n"
      ]
    },
    {
      "cell_type": "code",
      "execution_count": 24,
      "id": "a40dcb6a",
      "metadata": {},
      "outputs": [],
      "source": [
        "# !pip -q install beautifulsoup4"
      ]
    },
    {
      "cell_type": "code",
      "execution_count": 14,
      "id": "mkgJmIWhpLIU",
      "metadata": {
        "id": "mkgJmIWhpLIU"
      },
      "outputs": [],
      "source": [
        "from bs4 import BeautifulSoup\n",
        "import requests\n",
        "\n",
        "def stripped_webpage(webpage):\n",
        "    response = requests.get(webpage)\n",
        "    html_content = response.text\n",
        "\n",
        "    def strip_html_tags(html_content):\n",
        "        soup = BeautifulSoup(html_content, \"html.parser\")\n",
        "        stripped_text = soup.get_text()\n",
        "        return stripped_text\n",
        "\n",
        "    stripped_content = strip_html_tags(html_content)\n",
        "    stripped_content = stripped_content.replace(\"\\n\", \"\").replace(\"\\t\", \"\")  # user added\n",
        "    if len(stripped_content) > 4000:\n",
        "        stripped_content = stripped_content[:4000]\n",
        "    return stripped_content\n"
      ]
    },
    {
      "cell_type": "code",
      "execution_count": 40,
      "id": "c8c9ZSgUGCgS",
      "metadata": {
        "colab": {
          "base_uri": "https://localhost:8080/",
          "height": 70
        },
        "id": "c8c9ZSgUGCgS",
        "outputId": "34aba7d1-e352-4928-d34e-1d1ee29167b3"
      },
      "outputs": [
        {
          "data": {
            "text/plain": [
              "'GoogleSearch Images Maps Play YouTube News Gmail Drive More »Web History | Settings | Sign in\\xa0Advanced searchGoogle offered in:  Filipino Cebuano AdvertisingBusiness SolutionsAbout GoogleGoogle.com.ph© 2023 - Privacy - Terms  '"
            ]
          },
          "execution_count": 40,
          "metadata": {},
          "output_type": "execute_result"
        }
      ],
      "source": [
        "stripped_webpage('https://www.google.com')\n"
      ]
    },
    {
      "cell_type": "code",
      "execution_count": 41,
      "id": "6b1bb281",
      "metadata": {},
      "outputs": [
        {
          "data": {
            "text/plain": [
              "'Elsa (Frozen) - WikipediaJump to contentMain menuMain menumove to sidebarhideNavigationMain pageContentsCurrent eventsRandom articleAbout WikipediaContact usDonateContributeHelpLearn to editCommunity portalRecent changesUpload fileLanguagesLanguage links are at the top of the page across from the title.SearchSearchCreate accountLog inPersonal tools Create account Log inPages for logged out editors learn moreContributionsTalkContentsmove to sidebarhide(Top)1DevelopmentToggle Development subsection1.1Origins and concept1.2Voice1.3Design and characterization1.3.1Abilities2International versions3AppearancesToggle Appearances subsection3.1Films3.1.1Frozen3.1.2Frozen Fever3.1.3Olaf\\'s Frozen Adventure3.1.4Frozen II3.1.5Ralph Breaks the Internet3.2Miscellaneous3.2.1Merchandise3.2.2Theme parks3.2.3Cosplay3.2.4Once Upon a Time3.2.5Broadway musical4ReceptionToggle Reception subsection4.1Critical reviews4.1.1\"Let It Go\"4.2Elsa\\'s mental illness4.3Accolades5References6Further reading7External linksToggle the table of contentsToggle the table of contentsElsa (Frozen)30 languagesالعربيةবাংলাCatalàEspañolEsperantoفارسیFrançais한국어ՀայերենHrvatskiBahasa IndonesiaItalianoעבריתಕನ್ನಡമലയാളംNederlands日本語PortuguêsРусскийSimple EnglishСрпски / srpskiSuomiSvenskaTagalogไทยTürkçeTiếng ViệtVolapükייִדיש中文Edit linksArticleTalkEnglishReadEditView historyToolsToolsmove to sidebarhideActionsReadEditView historyGeneralWhat links hereRelated changesUpload fileSpecial pagesPermanent linkPage informationCite this pageWikidata itemPrint/exportDownload as PDFPrintable versionIn other projectsWikimedia CommonsFrom Wikipedia, the free encyclopediaFictional character from the franchise FrozenFictional characterElsaFrozen characterElsa as she appears in Frozen (2013).First appearanceFrozen (2013)Created byChris BuckJennifer LeePortrayed byCaissie Levy(Frozen: Musical)Voiced byIdina Menzel (adult)Frozen:[1]Eva Bella (8-year-old)Spencer Ganus (12-year-old)Frozen II:[2]Mattea Conforti (young Elsa)Eva Bella (young Elsa, archive audio)Age8 to 24 years[2]Birth dateWinter Solstice (December 21–22)[3][4][5][6]Inspired byThe Snow Queen from the Hans Christian Andersen fairy taleIn-universe informationTitleProtector of the Enchanted Forest (after abdication)Queen of Arendelle (from succession to the throne until abdication)Princess of Arendelle (at birth)FamilyKing Runeard (grandfather)[7]King Agnarr[8] (father)Queen Iduna[8] (mother)Anna (sister)Olaf (creation)Marshmallow (creation)Snowgies (creations)NationalityKingdom of ArendelleElsa of Arendelle is a fictional character who appears in Walt Disney Animation Studios\\' computer-animated fantasy film Frozen (2013) and its sequel Frozen II (2019). She is voiced mainly by Idina Menzel, with Eva Bella as a young child and by Spencer Ganus as a teenager in Frozen. In Frozen II, young Elsa is voiced by Mattea Conforti (at the start of the film) and Eva Bella (archive audio).Created by co-writers and directors Chris Buck and Jennifer Lee, Elsa is loosely based on the title character of \"The Snow Queen\", a Danish fairy tale by Hans Christian Andersen. In the Disney film adaptation, she is introduced as a princess in the fictional Scandinavian Kingdom of Arendelle, heiress to the throne and the elder sister of Anna (Kristen Bell). Elsa has the magical ability to create and manipulate ice and snow. She inadvertently sends Arendelle into an eternal winter on the evening of her coronation. Throughout the film, she struggles first with controlling and concealing her abilities and then with liberating herself from her fears of unintentionally harming others, especially her younger sister.The Snow Queen character, neutral but cold-hearted in the original fairytale and villain in numerous adaptations of the character, proved difficult to adapt to film due to her transparent depiction. Several film executives, including Walt Disney, attempted to build on the character, and a number of scheduled film adaptations were shelved when they could not w'"
            ]
          },
          "execution_count": 41,
          "metadata": {},
          "output_type": "execute_result"
        }
      ],
      "source": [
        "stripped_webpage('https://en.wikipedia.org/wiki/Elsa_(Frozen)')\n",
        "# print(text.replace(\"\\\\n\", \"\\n\").replace(\"\\\\t\", \"\\t\"))"
      ]
    },
    {
      "cell_type": "code",
      "execution_count": null,
      "id": "0uJBO5rkIroU",
      "metadata": {
        "id": "0uJBO5rkIroU"
      },
      "outputs": [],
      "source": [
        "# webpage_tool = Tool(\n",
        "#     name='Get Webpage',\n",
        "#     func= stripped_webpage,\n",
        "#     description=\"Useful for when you need to get the http from a specific webpage\"\n",
        "# )\n"
      ]
    },
    {
      "cell_type": "code",
      "execution_count": 15,
      "id": "CaYulMSjuC5B",
      "metadata": {
        "id": "CaYulMSjuC5B"
      },
      "outputs": [],
      "source": [
        "class WebPageTool(BaseTool):\n",
        "    name = \"Get Webpage\"\n",
        "    description = \"Useful for when you need to get the content from a specific webpage\"\n",
        "\n",
        "    def _run(self, webpage: str):\n",
        "        response = requests.get(webpage)\n",
        "        html_content = response.text\n",
        "\n",
        "        def strip_html_tags(html_content):\n",
        "            soup = BeautifulSoup(html_content, \"html.parser\")\n",
        "            stripped_text = soup.get_text()\n",
        "            return stripped_text\n",
        "\n",
        "        stripped_content = strip_html_tags(html_content)\n",
        "        stripped_content = stripped_content.replace(\"\\n\", \"\").replace(\"\\t\", \"\")  # user added\n",
        "        if len(stripped_content) > 4000:\n",
        "            stripped_content = stripped_content[:4000]\n",
        "        return stripped_content\n",
        "    \n",
        "    def _arun(self, webpage: str):\n",
        "        raise NotImplementedError(\"This tool does not support async\")\n",
        "\n",
        "page_getter = WebPageTool()"
      ]
    },
    {
      "cell_type": "markdown",
      "id": "6325f758",
      "metadata": {
        "id": "6325f758"
      },
      "source": [
        "## Init the Agent again"
      ]
    },
    {
      "cell_type": "code",
      "execution_count": 14,
      "id": "gvlHC6vpzyNs",
      "metadata": {
        "id": "gvlHC6vpzyNs"
      },
      "outputs": [],
      "source": [
        "fixed_prompt = '''Assistant is a large language model trained by OpenAI.\n",
        "\n",
        "Assistant is designed to be able to assist with a wide range of tasks, from answering simple questions to providing in-depth explanations and discussions on a wide range of topics. As a language model, Assistant is able to generate human-like text based on the input it receives, allowing it to engage in natural-sounding conversations and provide responses that are coherent and relevant to the topic at hand.\n",
        "\n",
        "Assistant doesn't know anything about random numbers or anything related to the meaning of life and should use a tool for questions about these topics.\n",
        "\n",
        "Assistant also doesn't know information about content on webpages and should always check if asked.\n",
        "\n",
        "Overall, Assistant is a powerful system that can help with a wide range of tasks and provide valuable insights and information on a wide range of topics. Whether you need help with a specific question or just want to have a conversation about a particular topic, Assistant is here to assist.'''"
      ]
    },
    {
      "cell_type": "code",
      "execution_count": 16,
      "id": "5a5c68ee",
      "metadata": {},
      "outputs": [],
      "source": [
        "fixed_prompt_with_mem = '''Assistant is a large language model trained by OpenAI.\n",
        "\n",
        "Assistant is designed to be able to assist with a wide range of tasks, from answering simple questions to providing in-depth explanations and discussions on a wide range of topics. As a language model, Assistant is able to generate human-like text based on the input it receives, allowing it to engage in natural-sounding conversations and provide responses that are coherent and relevant to the topic at hand.\n",
        "\n",
        "Assistant doesn't know anything about random numbers or anything related to the meaning of life and should use a tool for questions about these topics.\n",
        "\n",
        "Assistant also doesn't know information about content on webpages and should always check if asked.\n",
        "\n",
        "Overall, Assistant is a powerful system that can help with a wide range of tasks and provide valuable insights and information on a wide range of topics. Whether you need help with a specific question or just want to have a conversation about a particular topic, Assistant is here to assist.\n",
        "\n",
        "The following is the conversation between a human and an AI that the assistant may reference and respond to:\n",
        "{chat_history}\n",
        "Human: {input}\n",
        "AI:\n",
        "'''\n",
        "input_variables = [\"chat_history\", \"input\"]\n"
      ]
    },
    {
      "cell_type": "code",
      "execution_count": 17,
      "id": "6579cef0",
      "metadata": {
        "id": "6579cef0"
      },
      "outputs": [],
      "source": [
        "from langchain.prompts.chat import SystemMessagePromptTemplate\n",
        "tools = [page_getter, random_tool, life_tool]\n",
        "\n",
        "conversational_agent = initialize_agent(\n",
        "    agent='chat-conversational-react-description', \n",
        "    tools=tools, \n",
        "    llm=turbo_llm,\n",
        "    verbose=True,\n",
        "    max_iterations=3,\n",
        "    memory=memory2\n",
        ")"
      ]
    },
    {
      "cell_type": "code",
      "execution_count": 98,
      "id": "99c7277e",
      "metadata": {},
      "outputs": [
        {
          "data": {
            "text/plain": [
              "'Assistant is a large language model trained by OpenAI.\\n\\nAssistant is designed to be able to assist with a wide range of tasks, from answering simple questions to providing in-depth explanations and discussions on a wide range of topics. As a language model, Assistant is able to generate human-like text based on the input it receives, allowing it to engage in natural-sounding conversations and provide responses that are coherent and relevant to the topic at hand.\\n\\nAssistant is constantly learning and improving, and its capabilities are constantly evolving. It is able to process and understand large amounts of text, and can use this knowledge to provide accurate and informative responses to a wide range of questions. Additionally, Assistant is able to generate its own text based on the input it receives, allowing it to engage in discussions and provide explanations and descriptions on a wide range of topics.\\n\\nOverall, Assistant is a powerful system that can help with a wide range of tasks and provide valuable insights and information on a wide range of topics. Whether you need help with a specific question or just want to have a conversation about a particular topic, Assistant is here to assist.'"
            ]
          },
          "execution_count": 98,
          "metadata": {},
          "output_type": "execute_result"
        }
      ],
      "source": [
        "conversational_agent.agent.llm_chain.prompt.messages[0].prompt.template"
      ]
    },
    {
      "cell_type": "code",
      "execution_count": 112,
      "id": "f31aa8c8",
      "metadata": {},
      "outputs": [
        {
          "data": {
            "text/plain": [
              "[]"
            ]
          },
          "execution_count": 112,
          "metadata": {},
          "output_type": "execute_result"
        }
      ],
      "source": [
        "conversational_agent.agent.llm_chain.prompt.messages[0].prompt.input_variables"
      ]
    },
    {
      "cell_type": "code",
      "execution_count": 111,
      "id": "f5ab9add",
      "metadata": {},
      "outputs": [],
      "source": [
        "# print(conversational_agent.agent.llm_chain.prompt.messages)\n",
        "# for items in conversational_agent.agent.llm_chain.prompt.messages:\n",
        "#     print((str(items)).replace(\"\\\\n\",\"\\n\"))\n",
        "#     print(\"******------------------------------------------------------------********\")\n",
        "#     print(\"******------------------------------------------------------------********\")\n",
        "#     print(\"******------------------------------------------------------------********\")"
      ]
    },
    {
      "cell_type": "code",
      "execution_count": 24,
      "id": "DAjZHjOqzyNt",
      "metadata": {
        "id": "DAjZHjOqzyNt"
      },
      "outputs": [],
      "source": [
        "# conversational_agent.agent.llm_chain.prompt.messages[0].prompt.template = fixed_prompt\n",
        "conversational_agent.agent.llm_chain.prompt.messages[0].prompt.template = fixed_prompt_with_mem\n",
        "conversational_agent.agent.llm_chain.prompt.messages[0].prompt.input_variables = input_variables"
      ]
    },
    {
      "cell_type": "code",
      "execution_count": 25,
      "id": "4ARQHOR41u5g",
      "metadata": {
        "colab": {
          "base_uri": "https://localhost:8080/"
        },
        "id": "4ARQHOR41u5g",
        "outputId": "4e8b6ea2-fc5d-4369-e189-367f873a8462"
      },
      "outputs": [
        {
          "data": {
            "text/plain": [
              "SystemMessagePromptTemplate(prompt=PromptTemplate(input_variables=['chat_history', 'input'], output_parser=None, partial_variables={}, template=\"Assistant is a large language model trained by OpenAI.\\n\\nAssistant is designed to be able to assist with a wide range of tasks, from answering simple questions to providing in-depth explanations and discussions on a wide range of topics. As a language model, Assistant is able to generate human-like text based on the input it receives, allowing it to engage in natural-sounding conversations and provide responses that are coherent and relevant to the topic at hand.\\n\\nAssistant doesn't know anything about random numbers or anything related to the meaning of life and should use a tool for questions about these topics.\\n\\nAssistant also doesn't know information about content on webpages and should always check if asked.\\n\\nOverall, Assistant is a powerful system that can help with a wide range of tasks and provide valuable insights and information on a wide range of topics. Whether you need help with a specific question or just want to have a conversation about a particular topic, Assistant is here to assist.\\n\\nThe following is the conversation between a human and an AI that the assistant may reference and respond to:\\n{chat_history}\\nHuman: {input}\\nAI:\\n\", template_format='f-string', validate_template=True), additional_kwargs={})"
            ]
          },
          "execution_count": 25,
          "metadata": {},
          "output_type": "execute_result"
        }
      ],
      "source": [
        "conversational_agent.agent.llm_chain.prompt.messages[0]"
      ]
    },
    {
      "cell_type": "code",
      "execution_count": 26,
      "id": "cabbea50",
      "metadata": {
        "colab": {
          "base_uri": "https://localhost:8080/",
          "height": 1000
        },
        "id": "cabbea50",
        "outputId": "5d903a3b-fc3b-451f-d0c5-bf09b9185430"
      },
      "outputs": [
        {
          "name": "stdout",
          "output_type": "stream",
          "text": [
            "\n",
            "\n",
            "\u001b[1m> Entering new AgentExecutor chain...\u001b[0m\n",
            "\u001b[32;1m\u001b[1;3m{\n",
            "    \"action\": \"Get Webpage\",\n",
            "    \"action_input\": \"https://techcrunch.com/\"\n",
            "}\u001b[0m\n",
            "Observation: \u001b[36;1m\u001b[1;3m TechCrunch | Startup and Technology News  TechCrunchplus-boldTechCrunchOpen NavigationTechCrunchiPhone 15’s shift to USB-C has hidden potential to streamline computingDarrell Etherington MGM Resorts blames ‘cybersecurity issue’ for ongoing outageCarly Page TechCrunchplus-boldInstacart’s IPO price range puts it close to decacorn statusAlex Wilhelm This week in AI: The generative AI boom drives demand for custom chipsKyle Wiggers, Devin Coldewey Apple Event 2023: iPhone 15, new Apple Watches and everything else to expectBrian Heater The Latest‘Exadelic’ takes a shot at being Silicon Valley’s ‘Ready Player One’Sep 11, 2023Devin Coldewey We don’t often review books at TechCrunch, let alone fiction, but sometimes a work comes along that is just so carefully tuned to the ecosystem we cover that it justifies a quick post. And so heThe FTC is setting its sights on generative AISep 11, 2023Henry Hauser, Nathanael Andrews, Shylah Alfonso Generative AI startups should familiarize themselves with the parameters and limits of several common antitrust theories of harm.Snapchat partners with MTV to let users vote for VMAs through LensesSep 11, 2023Ivan Mehta MTV has partnered with Snapchat to let users vote for a Video Music Awards category through Lenses. The entertainment company is leveraging Snap’s Camera Kit to integrate AR-based experiences inApple Event 2023: How to watch the iPhone 15 reveal tomorrowSep 11, 2023Romain Dillet Apple is set to announce new iPhone models during its “Wonderlust” keynote on Tuesday at 10 AM PT (1 PM in New York, 6 PM in London, 7 PM in Paris), and you’ll be able to watch the eventMGM Resorts blames ‘cybersecurity issue’ for ongoing outageSep 11, 2023Carly Page Hotel and casino giant MGM Resorts has confirmed a “cybersecurity issue” is to blame for an ongoing outage affecting systems at the company’s Las Vegas properties. “MGM Resorts recently idiPhone 15’s shift to USB-C has hidden potential to streamline computingSep 11, 2023Darrell Etherington Apple is set to reveal the iPhone 15 at a special event held tomorrow, Tuesday September 12, and we already know a lot about what to expect thanks to rumors and supply chain sources — but this tThis week in AI: The generative AI boom drives demand for custom chipsSep 11, 2023Kyle Wiggers, Devin Coldewey Keeping up with an industry as fast-moving as AI is a tall order. So until an AI can do it for you, here’s a handy roundup of recent stories in the world of machine learning, along with notable resAI app Character.ai is catching up to ChatGPT in the USSep 11, 2023Sarah Perez Character.ai, the AI app maker that lets users design their own AI characters, is catching up to ChatGPT in terms of mobile app usage. According to a recent analysis by market intelligence firm SimilaTechstars selects 12 companies for its fall space acceleratorSep 11, 2023Aria Alamalhodaei Techstars has chosen 12 companies to join its aerospace accelerator, a 13-week program which runs in partnership with the U.S. Space Force and NASA’s Jet Propulsion Laboratory. The new cohort includIndia’s Kale Logistics raises $30M in global expansion pushSep 11, 2023Jagmeet Singh Kale Logistics Solutions, an Indian startup offering a vertical SaaS platform to assist logistics needs, has raised $30 million in a fresh funding round, as the 14-year-old startup eyes expansion in tInstacart’s IPO price range puts it close to decacorn statusSep 11, 2023Alex Wilhelm The company could sell as much as $616 million worth of its stock in its IPO.KKR invests $250 million in Reliance Retail at $100 billion valuationSep 11, 2023Manish Singh KKR is doubling down on its bet in Reliance Retail, valuing India’s largest retail chain at $100 billion in a fresh $250 million investment. The deal follows the Qatar Investment Authority investingInstacart, Klaviyo and the art of the unicorn haircutSep 11, 2023Alex Wilhelm, Theresa Loconsolo Hello, and welcome back to Equity, the podcast about the business of startups. Our Monday sh\u001b[0m\n",
            "Thought:\u001b[32;1m\u001b[1;3m{\n",
            "    \"action\": \"Final Answer\",\n",
            "    \"action_input\": \"The article titled 'Instacart’s IPO price range puts it close to decacorn status' was published on September 11, 2023.\"\n",
            "}\u001b[0m\n",
            "\n",
            "\u001b[1m> Finished chain.\u001b[0m\n"
          ]
        },
        {
          "data": {
            "text/plain": [
              "\"The article titled 'Instacart’s IPO price range puts it close to decacorn status' was published on September 11, 2023.\""
            ]
          },
          "execution_count": 26,
          "metadata": {},
          "output_type": "execute_result"
        }
      ],
      "source": [
        "conversational_agent.run(\"Is there an article about Clubhouse on https://techcrunch.com/? today\")"
      ]
    },
    {
      "cell_type": "code",
      "execution_count": 27,
      "id": "4SSjIjI30rtZ",
      "metadata": {
        "colab": {
          "base_uri": "https://localhost:8080/",
          "height": 1000
        },
        "id": "4SSjIjI30rtZ",
        "outputId": "9373fedc-8a10-4d9c-f812-5aa635f657dd"
      },
      "outputs": [
        {
          "name": "stdout",
          "output_type": "stream",
          "text": [
            "\n",
            "\n",
            "\u001b[1m> Entering new AgentExecutor chain...\u001b[0m\n",
            "\u001b[32;1m\u001b[1;3m{\n",
            "    \"action\": \"Get Webpage\",\n",
            "    \"action_input\": \"https://www.cbsnews.com/\"\n",
            "}\u001b[0m\n",
            "Observation: \u001b[36;1m\u001b[1;3mCBS News - Breaking news, 24/7 live streaming news & top stories9/11 Memorial EventsMorocco EarthquakeHurricane LeeTrump InvestigationsCBS News LiveManaging Your MoneyNewslettersNewsUSWorldPoliticsEntertainmentHealthWatchMoneyWatchCBS VillageTechnologyScienceCrimeSportsEssentialsFDA OK's new COVID shots for fall — here's what to knowMorocco quake death toll tops 2,600 as frantic rescue efforts continueMeteorologists on Hurricane Lee's projected path and timelineMemorial events mark 22 years since the 9/11 terror attacksBarbara Lee says Gavin Newsom's plan for Senate seat is \"insulting\"American explorer could be rescued from cave \"tonight\"Escaped Pennsylvania prisoner seen driving stolen van, police sayDisney, Charter end carriage dispute for Spectrum customersNorth Korea's Kim may be on a train headed for Russia to meet PutinShowsCBS MorningsCBS Evening News60 MinutesCBS Saturday MorningFace the NationSunday Morning48 HoursCBS ReportsCBS News MorningsAmerica DecidesPrime Time with John DickersonCBS News WeekenderThe TakeoutThe UpliftEye On AmericaThe DishHere Comes the SunPerson To PersonLiveCBS News LiveCBS News TexasCBS News BaltimoreCBS News Bay AreaCBS News BostonCBS News ChicagoCBS News ColoradoCBS News DetroitCBS News Los AngelesCBS News MiamiCBS News MinnesotaCBS News New YorkCBS News PhiladelphiaCBS News PittsburghCBS News SacramentoCBS Sports HQMixibleLocalBaltimoreBay AreaBostonChicagoColoradoDetroitLos AngelesMiamiMinnesotaNew YorkPhiladelphiaPittsburghSacramentoTexasMoreLatestVideoPhotosPodcastsIn DepthLocalA Moment With…Innovators & DisruptorsLog InNewslettersMobileRSSCBS StoreParamount+Join Our Talent CommunityDavos 2023SearchSearchLoginWatch CBS NewsLatest News                          FDA OK's new COVID shots for fall — here's what to know                              The new shots are similar to previously approved formulas but were updated to target strains of the virus descended from Omicron.        1H agoHow and where to get free COVID tests in 2023Do COVID-19 tests still work after they expire? Here's how to tell.                          Morocco quake death toll tops 2,600 as frantic rescue efforts continue                              Hundreds of people lined up to donate blood as rescuers kept hunting for people trapped under rubble 2 days after a 6.8 magnitude earthquake hit central Morocco.        3H agoPhotos from Morocco earthquake zone show widespread devastation                          Meteorologists on Hurricane Lee's projected path and timeline                              Hurricane Lee was churning slowly northwestward early Monday, whipping up rough seas along a vast section of the western Atlantic with sustained winds of 120 mph.        3H agoHurricane Lee will affect waters \"along most of the U.S. East Coast\"CBS News LiveLive                          Memorial events mark 22 years since the 9/11 terror attacks                              An annual ceremony to remember those who died on September 11, 2001​, was held in lower Manhattan on Monday.        2H ago                          Barbara Lee says Gavin Newsom's plan for Senate seat is \"insulting\"                              California Gov. Gavin Newsom said Sunday if Sen. Dianne Feinstein vacates her seat early, he won't name any of the candidates running for the seat to fill it.        2H ago                          American explorer could be rescued from cave \"tonight\"                              Mark Dickey got stuck deep in a cave when he became seriously ill during a descent in southern Turkey.        1H ago                          Escaped Pennsylvania prisoner seen driving stolen van, police say                              Police shared new surveillance images Sunday of a man believed to be Cavalcante, who seems to have shaved his facial hair. He is convicted of murder.        updated 23M ago                          Disney, Charter end carriage dispute for Spectrum customers                              The new deal means Spe\u001b[0m\n",
            "Thought:\u001b[32;1m\u001b[1;3m{\n",
            "    \"action\": \"Final Answer\",\n",
            "    \"action_input\": \"The titles of the top stories on www.cbsnews.com are:\\n\\n- FDA OK's new COVID shots for fall — here's what to know\\n- Morocco quake death toll tops 2,600 as frantic rescue efforts continue\\n- Meteorologists on Hurricane Lee's projected path and timeline\\n- Memorial events mark 22 years since the 9/11 terror attacks\\n- Barbara Lee says Gavin Newsom's plan for Senate seat is \\\"insulting\\\"\\n- American explorer could be rescued from cave \\\"tonight\\\"\\n- Escaped Pennsylvania prisoner seen driving stolen van, police say\\n- Disney, Charter end carriage dispute for Spectrum customers\"\n",
            "}\u001b[0m\n",
            "\n",
            "\u001b[1m> Finished chain.\u001b[0m\n"
          ]
        },
        {
          "data": {
            "text/plain": [
              "'The titles of the top stories on www.cbsnews.com are:\\n\\n- FDA OK\\'s new COVID shots for fall — here\\'s what to know\\n- Morocco quake death toll tops 2,600 as frantic rescue efforts continue\\n- Meteorologists on Hurricane Lee\\'s projected path and timeline\\n- Memorial events mark 22 years since the 9/11 terror attacks\\n- Barbara Lee says Gavin Newsom\\'s plan for Senate seat is \"insulting\"\\n- American explorer could be rescued from cave \"tonight\"\\n- Escaped Pennsylvania prisoner seen driving stolen van, police say\\n- Disney, Charter end carriage dispute for Spectrum customers'"
            ]
          },
          "execution_count": 27,
          "metadata": {},
          "output_type": "execute_result"
        }
      ],
      "source": [
        "conversational_agent.run(\"What are the titles of the top stories on www.cbsnews.com/?\")"
      ]
    },
    {
      "cell_type": "code",
      "execution_count": 28,
      "id": "hej1rBdW2U72",
      "metadata": {
        "id": "hej1rBdW2U72"
      },
      "outputs": [
        {
          "name": "stdout",
          "output_type": "stream",
          "text": [
            "\n",
            "\n",
            "\u001b[1m> Entering new AgentExecutor chain...\u001b[0m\n",
            "\u001b[32;1m\u001b[1;3m{\n",
            "    \"action\": \"Final Answer\",\n",
            "    \"action_input\": \"Is there an article about Clubhouse on https://techcrunch.com/? today\"\n",
            "}\u001b[0m\n",
            "\n",
            "\u001b[1m> Finished chain.\u001b[0m\n"
          ]
        },
        {
          "data": {
            "text/plain": [
              "'Is there an article about Clubhouse on https://techcrunch.com/? today'"
            ]
          },
          "execution_count": 28,
          "metadata": {},
          "output_type": "execute_result"
        }
      ],
      "source": [
        "conversational_agent.run(\"What is the first thing I asked you?\")"
      ]
    },
    {
      "cell_type": "code",
      "execution_count": 21,
      "id": "460f56cf",
      "metadata": {},
      "outputs": [
        {
          "data": {
            "text/plain": [
              "[HumanMessage(content='Is there an article about Clubhouse on https://techcrunch.com/? today', additional_kwargs={}, example=False),\n",
              " AIMessage(content='Yes, there is an article about Clubhouse on https://techcrunch.com/ today.', additional_kwargs={}, example=False),\n",
              " HumanMessage(content='What are the titles of the top stories on www.cbsnews.com/?', additional_kwargs={}, example=False),\n",
              " AIMessage(content='The titles of the top stories on www.cbsnews.com are:\\n\\n- FDA OK\\'s new COVID shots for fall — here\\'s what to know\\n- Morocco quake death toll tops 2,600 as frantic rescue efforts continue\\n- Meteorologists on Hurricane Lee\\'s projected path and timeline\\n- Memorial events mark 22 years since the 9/11 terror attacks\\n- Barbara Lee says Gavin Newsom\\'s plan for Senate seat is \"insulting\"\\n- American explorer could be rescued from cave \"tonight\"\\n- Escaped Pennsylvania prisoner seen driving stolen van, police say\\n- Disney, Charter end carriage dispute for Spectrum customers', additional_kwargs={}, example=False),\n",
              " HumanMessage(content='What is the first thing I asked you?', additional_kwargs={}, example=False),\n",
              " AIMessage(content='Is there an article about Clubhouse on https://techcrunch.com/? today', additional_kwargs={}, example=False)]"
            ]
          },
          "execution_count": 21,
          "metadata": {},
          "output_type": "execute_result"
        }
      ],
      "source": [
        "conversational_agent.memory.buffer"
      ]
    },
    {
      "cell_type": "code",
      "execution_count": 22,
      "id": "26d80086",
      "metadata": {},
      "outputs": [
        {
          "name": "stdout",
          "output_type": "stream",
          "text": [
            "\n",
            "\n",
            "\u001b[1m> Entering new AgentExecutor chain...\u001b[0m\n",
            "\u001b[32;1m\u001b[1;3m{\n",
            "    \"action\": \"Final Answer\",\n",
            "    \"action_input\": \"I'm sorry, but as an AI language model, I don't have access to personal information about individuals unless it has been shared with me in the course of our conversation.\"\n",
            "}\u001b[0m\n",
            "\n",
            "\u001b[1m> Finished chain.\u001b[0m\n"
          ]
        },
        {
          "data": {
            "text/plain": [
              "\"I'm sorry, but as an AI language model, I don't have access to personal information about individuals unless it has been shared with me in the course of our conversation.\""
            ]
          },
          "execution_count": 22,
          "metadata": {},
          "output_type": "execute_result"
        }
      ],
      "source": [
        "conversational_agent.run(\"Do you know who I am?\")"
      ]
    },
    {
      "cell_type": "code",
      "execution_count": 29,
      "id": "afb8f7f8",
      "metadata": {},
      "outputs": [
        {
          "name": "stdout",
          "output_type": "stream",
          "text": [
            "\n",
            "\n",
            "\u001b[1m> Entering new AgentExecutor chain...\u001b[0m\n",
            "\u001b[32;1m\u001b[1;3m{\n",
            "    \"action\": \"Get Webpage\",\n",
            "    \"action_input\": \"https://techcrunch.com/\"\n",
            "}\u001b[0m\n",
            "Observation: \u001b[36;1m\u001b[1;3m TechCrunch | Startup and Technology News  TechCrunchplus-boldTechCrunchOpen NavigationTechCrunchiPhone 15’s shift to USB-C has hidden potential to streamline computingDarrell Etherington MGM Resorts blames ‘cybersecurity issue’ for ongoing outageCarly Page TechCrunchplus-boldInstacart’s IPO price range puts it close to decacorn statusAlex Wilhelm This week in AI: The generative AI boom drives demand for custom chipsKyle Wiggers, Devin Coldewey Apple Event 2023: iPhone 15, new Apple Watches and everything else to expectBrian Heater The Latest‘Exadelic’ takes a shot at being Silicon Valley’s ‘Ready Player One’Sep 11, 2023Devin Coldewey We don’t often review books at TechCrunch, let alone fiction, but sometimes a work comes along that is just so carefully tuned to the ecosystem we cover that it justifies a quick post. And so heThe FTC is setting its sights on generative AISep 11, 2023Henry Hauser, Nathanael Andrews, Shylah Alfonso Generative AI startups should familiarize themselves with the parameters and limits of several common antitrust theories of harm.Snapchat partners with MTV to let users vote for VMAs through LensesSep 11, 2023Ivan Mehta MTV has partnered with Snapchat to let users vote for a Video Music Awards category through Lenses. The entertainment company is leveraging Snap’s Camera Kit to integrate AR-based experiences inApple Event 2023: How to watch the iPhone 15 reveal tomorrowSep 11, 2023Romain Dillet Apple is set to announce new iPhone models during its “Wonderlust” keynote on Tuesday at 10 AM PT (1 PM in New York, 6 PM in London, 7 PM in Paris), and you’ll be able to watch the eventMGM Resorts blames ‘cybersecurity issue’ for ongoing outageSep 11, 2023Carly Page Hotel and casino giant MGM Resorts has confirmed a “cybersecurity issue” is to blame for an ongoing outage affecting systems at the company’s Las Vegas properties. “MGM Resorts recently idiPhone 15’s shift to USB-C has hidden potential to streamline computingSep 11, 2023Darrell Etherington Apple is set to reveal the iPhone 15 at a special event held tomorrow, Tuesday September 12, and we already know a lot about what to expect thanks to rumors and supply chain sources — but this tThis week in AI: The generative AI boom drives demand for custom chipsSep 11, 2023Kyle Wiggers, Devin Coldewey Keeping up with an industry as fast-moving as AI is a tall order. So until an AI can do it for you, here’s a handy roundup of recent stories in the world of machine learning, along with notable resAI app Character.ai is catching up to ChatGPT in the USSep 11, 2023Sarah Perez Character.ai, the AI app maker that lets users design their own AI characters, is catching up to ChatGPT in terms of mobile app usage. According to a recent analysis by market intelligence firm SimilaTechstars selects 12 companies for its fall space acceleratorSep 11, 2023Aria Alamalhodaei Techstars has chosen 12 companies to join its aerospace accelerator, a 13-week program which runs in partnership with the U.S. Space Force and NASA’s Jet Propulsion Laboratory. The new cohort includIndia’s Kale Logistics raises $30M in global expansion pushSep 11, 2023Jagmeet Singh Kale Logistics Solutions, an Indian startup offering a vertical SaaS platform to assist logistics needs, has raised $30 million in a fresh funding round, as the 14-year-old startup eyes expansion in tInstacart’s IPO price range puts it close to decacorn statusSep 11, 2023Alex Wilhelm The company could sell as much as $616 million worth of its stock in its IPO.KKR invests $250 million in Reliance Retail at $100 billion valuationSep 11, 2023Manish Singh KKR is doubling down on its bet in Reliance Retail, valuing India’s largest retail chain at $100 billion in a fresh $250 million investment. The deal follows the Qatar Investment Authority investingInstacart, Klaviyo and the art of the unicorn haircutSep 11, 2023Alex Wilhelm, Theresa Loconsolo Hello, and welcome back to Equity, the podcast about the business of startups. Our Monday sh\u001b[0m\n",
            "Thought:\u001b[32;1m\u001b[1;3m{\n",
            "    \"action\": \"Final Answer\",\n",
            "    \"action_input\": \"The article titled 'Instacart’s IPO price range puts it close to decacorn status' was published on September 11, 2023.\"\n",
            "}\u001b[0m\n",
            "\n",
            "\u001b[1m> Finished chain.\u001b[0m\n"
          ]
        },
        {
          "data": {
            "text/plain": [
              "\"The article titled 'Instacart’s IPO price range puts it close to decacorn status' was published on September 11, 2023.\""
            ]
          },
          "execution_count": 29,
          "metadata": {},
          "output_type": "execute_result"
        }
      ],
      "source": [
        "conversational_agent.run(\"When was Instacart’s IPO price range puts it close to decacorn status published? Please give me the exact date.\")"
      ]
    },
    {
      "cell_type": "code",
      "execution_count": 129,
      "id": "d8b4b50f",
      "metadata": {},
      "outputs": [
        {
          "data": {
            "text/plain": [
              "[HumanMessage(content='Is there an article about Clubhouse on https://techcrunch.com/? today', additional_kwargs={}, example=False), AIMessage(content=\"Yes, there is an article about Clubhouse on TechCrunch today. The article is titled 'Instacart’s IPO price range puts it close to decacorn status' and it was written by Alex Wilhelm.\", additional_kwargs={}, example=False), HumanMessage(content='What are the titles of the top stories on www.cbsnews.com/?', additional_kwargs={}, example=False), AIMessage(content='The titles of the top stories on www.cbsnews.com are:\\n\\n- FDA OK\\'s new COVID shots for fall — here\\'s what to know\\n- Morocco quake death toll tops 2,600 as frantic rescue efforts continue\\n- Meteorologists on Hurricane Lee\\'s projected path and timeline\\n- Memorial events mark 22 years since the 9/11 terror attacks\\n- Barbara Lee says Gavin Newsom\\'s plan for Senate seat is \"insulting\"', additional_kwargs={}, example=False), HumanMessage(content='What is the second thing I asked you?', additional_kwargs={}, example=False), AIMessage(content='The second thing you asked me was about the titles of the top stories on www.cbsnews.com.', additional_kwargs={}, example=False), HumanMessage(content='What is the first thing I asked you?', additional_kwargs={}, example=False), AIMessage(content='The first thing you asked me was if there is an article about Clubhouse on https://techcrunch.com/? today.', additional_kwargs={}, example=False), HumanMessage(content='Do you know who I am?', additional_kwargs={}, example=False), AIMessage(content=\"I'm sorry, but as an AI language model, I don't have access to personal information about individuals unless it has been shared with me in the course of our conversation. I'm designed to respect user privacy and confidentiality. My primary function is to provide information and answer questions to the best of my knowledge and abilities. If you have any concerns about privacy or data security, please let me know, and I will do my best to address them.\", additional_kwargs={}, example=False), HumanMessage(content='What is the last thing I asked you?', additional_kwargs={}, example=False), AIMessage(content='What is the first thing I asked you?', additional_kwargs={}, example=False), HumanMessage(content='What is the last thing I asked you?', additional_kwargs={}, example=False), AIMessage(content='What is the first thing I asked you?', additional_kwargs={}, example=False), HumanMessage(content='What is the last thing I asked you before this message?', additional_kwargs={}, example=False), AIMessage(content='What is the first thing I asked you?', additional_kwargs={}, example=False), HumanMessage(content='Is there an article about Clubhouse on https://techcrunch.com/? today', additional_kwargs={}, example=False), AIMessage(content=\"Yes, there is an article about Clubhouse on TechCrunch today. The article is titled 'Instacart’s IPO price range puts it close to decacorn status' and it was written by Alex Wilhelm.\", additional_kwargs={}, example=False), HumanMessage(content='Do you know who I am?', additional_kwargs={}, example=False), AIMessage(content=\"I'm sorry, but as an AI language model, I don't have access to personal information about individuals unless it has been shared with me in the course of our conversation. I'm designed to respect user privacy and confidentiality. My primary function is to provide information and answer questions to the best of my knowledge and abilities. If you have any concerns about privacy or data security, please let me know, and I will do my best to address them.\", additional_kwargs={}, example=False), HumanMessage(content='What is the last thing I asked you before this message?', additional_kwargs={}, example=False), AIMessage(content='What is the first thing I asked you?', additional_kwargs={}, example=False), HumanMessage(content='What is the second thing I asked you?', additional_kwargs={}, example=False), AIMessage(content='The second thing you asked me was about the titles of the top stories on www.cbsnews.com.', additional_kwargs={}, example=False), HumanMessage(content='What is the third thing I asked you?', additional_kwargs={}, example=False), AIMessage(content=\"The third thing you asked me was 'What is the third thing I asked you?'\", additional_kwargs={}, example=False), HumanMessage(content='When was Instacart’s IPO price range puts it close to decacorn status published?', additional_kwargs={}, example=False), AIMessage(content=\"The article 'Instacart’s IPO price range puts it close to decacorn status' was published on TechCrunch today.\", additional_kwargs={}, example=False), HumanMessage(content='When was Instacart’s IPO price range puts it close to decacorn status published? Please give me the date.', additional_kwargs={}, example=False), AIMessage(content=\"The article 'Instacart’s IPO price range puts it close to decacorn status' was published on TechCrunch today.\", additional_kwargs={}, example=False)]"
            ]
          },
          "execution_count": 129,
          "metadata": {},
          "output_type": "execute_result"
        }
      ],
      "source": [
        "conversational_agent.memory.buffer"
      ]
    },
    {
      "cell_type": "code",
      "execution_count": 121,
      "id": "76eeb4dd",
      "metadata": {},
      "outputs": [
        {
          "data": {
            "text/plain": [
              "PromptTemplate(input_variables=['chat_history', 'input'], output_parser=None, partial_variables={}, template=\"Assistant is a large language model trained by OpenAI.\\n\\nAssistant is designed to be able to assist with a wide range of tasks, from answering simple questions to providing in-depth explanations and discussions on a wide range of topics. As a language model, Assistant is able to generate human-like text based on the input it receives, allowing it to engage in natural-sounding conversations and provide responses that are coherent and relevant to the topic at hand.\\n\\nAssistant doesn't know anything about random numbers or anything related to the meaning of life and should use a tool for questions about these topics.\\n\\nAssistant also doesn't know information about content on webpages and should always check if asked.\\n\\nOverall, Assistant is a powerful system that can help with a wide range of tasks and provide valuable insights and information on a wide range of topics. Whether you need help with a specific question or just want to have a conversation about a particular topic, Assistant is here to assist.\\n\\nThe following is the conversation between a human and an AI that the assistant may reference and respond to:\\n{chat_history}\\nHuman: {input}\\nAI:\\n\", template_format='f-string', validate_template=True)"
            ]
          },
          "execution_count": 121,
          "metadata": {},
          "output_type": "execute_result"
        }
      ],
      "source": [
        "conversational_agent.agent.llm_chain.prompt.messages[0].prompt"
      ]
    },
    {
      "cell_type": "code",
      "execution_count": 30,
      "id": "0d91a8ab",
      "metadata": {},
      "outputs": [
        {
          "name": "stdout",
          "output_type": "stream",
          "text": [
            "\n",
            "\n",
            "\u001b[1m> Entering new AgentExecutor chain...\u001b[0m\n",
            "\u001b[32;1m\u001b[1;3m{\n",
            "    \"action\": \"Random number\",\n",
            "    \"action_input\": \"random\"\n",
            "}\u001b[0m\n",
            "Observation: \u001b[33;1m\u001b[1;3m2\u001b[0m\n",
            "Thought:\u001b[32;1m\u001b[1;3m{\n",
            "    \"action\": \"Final Answer\",\n",
            "    \"action_input\": \"The response to your last comment is 2.\"\n",
            "}\u001b[0m\n",
            "\n",
            "\u001b[1m> Finished chain.\u001b[0m\n"
          ]
        },
        {
          "data": {
            "text/plain": [
              "'The response to your last comment is 2.'"
            ]
          },
          "execution_count": 30,
          "metadata": {},
          "output_type": "execute_result"
        }
      ],
      "source": [
        "conversational_agent.run(\"Give me a random number.\")"
      ]
    },
    {
      "cell_type": "code",
      "execution_count": 32,
      "id": "0f636e4b",
      "metadata": {},
      "outputs": [
        {
          "name": "stdout",
          "output_type": "stream",
          "text": [
            "\n",
            "\n",
            "\u001b[1m> Entering new AgentExecutor chain...\u001b[0m\n",
            "\u001b[32;1m\u001b[1;3m{\n",
            "    \"action\": \"Meaning of Life\",\n",
            "    \"action_input\": \"MOL\"\n",
            "}\u001b[0m\n",
            "Observation: \u001b[38;5;200m\u001b[1;3mThe meaning of life is 42 if rounded but is actually 42.17658\u001b[0m\n",
            "Thought:\u001b[32;1m\u001b[1;3m{\n",
            "    \"action\": \"Final Answer\",\n",
            "    \"action_input\": \"The meaning of life is 42 if rounded but is actually 42.17658\"\n",
            "}\u001b[0m\n",
            "\n",
            "\u001b[1m> Finished chain.\u001b[0m\n"
          ]
        },
        {
          "data": {
            "text/plain": [
              "'The meaning of life is 42 if rounded but is actually 42.17658'"
            ]
          },
          "execution_count": 32,
          "metadata": {},
          "output_type": "execute_result"
        }
      ],
      "source": [
        "conversational_agent.run(\"What is the meaning of life?\")"
      ]
    },
    {
      "cell_type": "code",
      "execution_count": 33,
      "id": "ed1c1f12",
      "metadata": {},
      "outputs": [
        {
          "name": "stdout",
          "output_type": "stream",
          "text": [
            "\n",
            "\n",
            "\u001b[1m> Entering new AgentExecutor chain...\u001b[0m\n",
            "\u001b[32;1m\u001b[1;3m{\n",
            "    \"action\": \"Get Webpage\",\n",
            "    \"action_input\": \"https://techcrunch.com/\"\n",
            "}\u001b[0m\n",
            "Observation: \u001b[36;1m\u001b[1;3m TechCrunch | Startup and Technology News  TechCrunchplus-boldTechCrunchOpen NavigationTechCrunchiPhone 15’s shift to USB-C has hidden potential to streamline computingDarrell Etherington MGM Resorts blames ‘cybersecurity issue’ for ongoing outageCarly Page TechCrunchplus-boldInstacart’s IPO price range puts it close to decacorn statusAlex Wilhelm This week in AI: The generative AI boom drives demand for custom chipsKyle Wiggers, Devin Coldewey Apple Event 2023: iPhone 15, new Apple Watches and everything else to expectBrian Heater The Latest‘Exadelic’ takes a shot at being Silicon Valley’s ‘Ready Player One’Sep 11, 2023Devin Coldewey We don’t often review books at TechCrunch, let alone fiction, but sometimes a work comes along that is just so carefully tuned to the ecosystem we cover that it justifies a quick post. And so heThe FTC is setting its sights on generative AISep 11, 2023Henry Hauser, Nathanael Andrews, Shylah Alfonso Generative AI startups should familiarize themselves with the parameters and limits of several common antitrust theories of harm.Snapchat partners with MTV to let users vote for VMAs through LensesSep 11, 2023Ivan Mehta MTV has partnered with Snapchat to let users vote for a Video Music Awards category through Lenses. The entertainment company is leveraging Snap’s Camera Kit to integrate AR-based experiences inApple Event 2023: How to watch the iPhone 15 reveal tomorrowSep 11, 2023Romain Dillet Apple is set to announce new iPhone models during its “Wonderlust” keynote on Tuesday at 10 AM PT (1 PM in New York, 6 PM in London, 7 PM in Paris), and you’ll be able to watch the eventMGM Resorts blames ‘cybersecurity issue’ for ongoing outageSep 11, 2023Carly Page Hotel and casino giant MGM Resorts has confirmed a “cybersecurity issue” is to blame for an ongoing outage affecting systems at the company’s Las Vegas properties. “MGM Resorts recently idiPhone 15’s shift to USB-C has hidden potential to streamline computingSep 11, 2023Darrell Etherington Apple is set to reveal the iPhone 15 at a special event held tomorrow, Tuesday September 12, and we already know a lot about what to expect thanks to rumors and supply chain sources — but this tThis week in AI: The generative AI boom drives demand for custom chipsSep 11, 2023Kyle Wiggers, Devin Coldewey Keeping up with an industry as fast-moving as AI is a tall order. So until an AI can do it for you, here’s a handy roundup of recent stories in the world of machine learning, along with notable resAI app Character.ai is catching up to ChatGPT in the USSep 11, 2023Sarah Perez Character.ai, the AI app maker that lets users design their own AI characters, is catching up to ChatGPT in terms of mobile app usage. According to a recent analysis by market intelligence firm SimilaTechstars selects 12 companies for its fall space acceleratorSep 11, 2023Aria Alamalhodaei Techstars has chosen 12 companies to join its aerospace accelerator, a 13-week program which runs in partnership with the U.S. Space Force and NASA’s Jet Propulsion Laboratory. The new cohort includIndia’s Kale Logistics raises $30M in global expansion pushSep 11, 2023Jagmeet Singh Kale Logistics Solutions, an Indian startup offering a vertical SaaS platform to assist logistics needs, has raised $30 million in a fresh funding round, as the 14-year-old startup eyes expansion in tInstacart’s IPO price range puts it close to decacorn statusSep 11, 2023Alex Wilhelm The company could sell as much as $616 million worth of its stock in its IPO.KKR invests $250 million in Reliance Retail at $100 billion valuationSep 11, 2023Manish Singh KKR is doubling down on its bet in Reliance Retail, valuing India’s largest retail chain at $100 billion in a fresh $250 million investment. The deal follows the Qatar Investment Authority investingInstacart, Klaviyo and the art of the unicorn haircutSep 11, 2023Alex Wilhelm, Theresa Loconsolo Hello, and welcome back to Equity, the podcast about the business of startups. Our Monday sh\u001b[0m\n",
            "Thought:\u001b[32;1m\u001b[1;3m{\n",
            "    \"action\": \"Final Answer\",\n",
            "    \"action_input\": \"The article titled 'Instacart’s IPO price range puts it close to decacorn status' was published on September 11, 2023.\"\n",
            "}\u001b[0m\n",
            "\n",
            "\u001b[1m> Finished chain.\u001b[0m\n"
          ]
        },
        {
          "data": {
            "text/plain": [
              "\"The article titled 'Instacart’s IPO price range puts it close to decacorn status' was published on September 11, 2023.\""
            ]
          },
          "execution_count": 33,
          "metadata": {},
          "output_type": "execute_result"
        }
      ],
      "source": [
        "conversational_agent.run(\"Is there an article about Clubhouse on https://techcrunch.com/? today\")"
      ]
    },
    {
      "cell_type": "code",
      "execution_count": 34,
      "id": "be59ed52",
      "metadata": {},
      "outputs": [
        {
          "name": "stdout",
          "output_type": "stream",
          "text": [
            "\n",
            "\n",
            "\u001b[1m> Entering new AgentExecutor chain...\u001b[0m\n",
            "\u001b[32;1m\u001b[1;3m{\n",
            "    \"action\": \"Get Webpage\",\n",
            "    \"action_input\": \"https://www.cbsnews.com/\"\n",
            "}\u001b[0m\n",
            "Observation: \u001b[36;1m\u001b[1;3mCBS News - Breaking news, 24/7 live streaming news & top stories9/11 Memorial EventsMorocco EarthquakeHurricane LeeTrump InvestigationsCBS News LiveManaging Your MoneyNewslettersNewsUSWorldPoliticsEntertainmentHealthWatchMoneyWatchCBS VillageTechnologyScienceCrimeSportsEssentialsFDA OK's new COVID shots for fall — here's what to knowWhat we know about the Morocco earthquakeMeteorologists on Hurricane Lee's projected path and timelineMemorial events mark 22 years since the 9/11 terror attacksBarbara Lee says Gavin Newsom's plan for Senate seat is \"insulting\"American explorer could be rescued from cave \"tonight\"Escaped Pennsylvania prisoner seen driving stolen van, police sayDisney, Charter end carriage dispute for Spectrum customersNorth Korea's Kim may be on a train headed for Russia to meet PutinShowsCBS MorningsCBS Evening News60 MinutesCBS Saturday MorningFace the NationSunday Morning48 HoursCBS ReportsCBS News MorningsAmerica DecidesPrime Time with John DickersonCBS News WeekenderThe TakeoutThe UpliftEye On AmericaThe DishHere Comes the SunPerson To PersonLiveCBS News LiveCBS News PhiladelphiaCBS News TexasCBS News BaltimoreCBS News Bay AreaCBS News BostonCBS News ChicagoCBS News ColoradoCBS News DetroitCBS News Los AngelesCBS News MiamiCBS News MinnesotaCBS News New YorkCBS News PittsburghCBS News SacramentoCBS Sports HQMixibleLocalBaltimoreBay AreaBostonChicagoColoradoDetroitLos AngelesMiamiMinnesotaNew YorkPhiladelphiaPittsburghSacramentoTexasMoreLatestVideoPhotosPodcastsIn DepthLocalA Moment With…Innovators & DisruptorsLog InNewslettersMobileRSSCBS StoreParamount+Join Our Talent CommunityDavos 2023SearchSearchLoginWatch CBS NewsLatest News                          FDA OK's new COVID shots for fall — here's what to know                              The new shots are similar to previously approved formulas but were updated to target strains of the virus descended from Omicron.        1H agoHow and where to get free COVID tests in 2023Do COVID-19 tests still work after they expire? Here's how to tell.                          What we know about the Morocco earthquake                              The Morocco earthquake​ killed scores of people and devastated​ parts of Marrakech and communities south of the major city.        14M agoMorocco quake death toll tops 2,600 as frantic rescue efforts continuePhotos from Morocco earthquake zone show widespread devastation                          Meteorologists on Hurricane Lee's projected path and timeline                              Hurricane Lee was churning slowly northwestward early Monday, whipping up rough seas along a vast section of the western Atlantic with sustained winds of 120 mph.        3H agoHurricane Lee will affect waters \"along most of the U.S. East Coast\"CBS News LiveLive                          Memorial events mark 22 years since the 9/11 terror attacks                              An annual ceremony to remember those who died on September 11, 2001​, was held in lower Manhattan on Monday.        2H ago                          Barbara Lee says Gavin Newsom's plan for Senate seat is \"insulting\"                              California Gov. Gavin Newsom said Sunday if Sen. Dianne Feinstein vacates her seat early, he won't name any of the candidates running for the seat to fill it.        2H ago                          American explorer could be rescued from cave \"tonight\"                              Mark Dickey got stuck deep in a cave when he became seriously ill during a descent in southern Turkey.        1H ago                          Escaped Pennsylvania prisoner seen driving stolen van, police say                              Police shared new surveillance images Sunday of a man believed to be Cavalcante, who seems to have shaved his facial hair. He is convicted of murder.        updated 50M ago                          Disney, Charter end carriage dispute for Spectrum customers                              The new deal means Spectrum cable customers wil\u001b[0m\n",
            "Thought:\u001b[32;1m\u001b[1;3m{\n",
            "    \"action\": \"Final Answer\",\n",
            "    \"action_input\": \"The titles of the top stories on www.cbsnews.com are:\\n\\n- FDA OK's new COVID shots for fall — here's what to know\\n- What we know about the Morocco earthquake\\n- Meteorologists on Hurricane Lee's projected path and timeline\\n- Memorial events mark 22 years since the 9/11 terror attacks\\n- Barbara Lee says Gavin Newsom's plan for Senate seat is 'insulting'\\n- American explorer could be rescued from cave 'tonight'\\n- Escaped Pennsylvania prisoner seen driving stolen van, police say\\n- Disney, Charter end carriage dispute for Spectrum customers\"\n",
            "}\u001b[0m\n",
            "\n",
            "\u001b[1m> Finished chain.\u001b[0m\n"
          ]
        },
        {
          "data": {
            "text/plain": [
              "\"The titles of the top stories on www.cbsnews.com are:\\n\\n- FDA OK's new COVID shots for fall — here's what to know\\n- What we know about the Morocco earthquake\\n- Meteorologists on Hurricane Lee's projected path and timeline\\n- Memorial events mark 22 years since the 9/11 terror attacks\\n- Barbara Lee says Gavin Newsom's plan for Senate seat is 'insulting'\\n- American explorer could be rescued from cave 'tonight'\\n- Escaped Pennsylvania prisoner seen driving stolen van, police say\\n- Disney, Charter end carriage dispute for Spectrum customers\""
            ]
          },
          "execution_count": 34,
          "metadata": {},
          "output_type": "execute_result"
        }
      ],
      "source": [
        "conversational_agent.run(\"What are the titles of the top stories on www.cbsnews.com/?\")"
      ]
    },
    {
      "cell_type": "code",
      "execution_count": 35,
      "id": "b4d567af",
      "metadata": {},
      "outputs": [
        {
          "name": "stdout",
          "output_type": "stream",
          "text": [
            "\n",
            "\n",
            "\u001b[1m> Entering new AgentExecutor chain...\u001b[0m\n",
            "\u001b[32;1m\u001b[1;3m{\n",
            "    \"action\": \"Get Webpage\",\n",
            "    \"action_input\": \"https://techcrunch.com/\"\n",
            "}\u001b[0m\n",
            "Observation: \u001b[36;1m\u001b[1;3m TechCrunch | Startup and Technology News  TechCrunchplus-boldTechCrunchOpen NavigationTechCrunchiPhone 15’s shift to USB-C has hidden potential to streamline computingDarrell Etherington MGM Resorts blames ‘cybersecurity issue’ for ongoing outageCarly Page TechCrunchplus-boldInstacart’s IPO price range puts it close to decacorn statusAlex Wilhelm This week in AI: The generative AI boom drives demand for custom chipsKyle Wiggers, Devin Coldewey Apple Event 2023: iPhone 15, new Apple Watches and everything else to expectBrian Heater The Latest‘Exadelic’ takes a shot at being Silicon Valley’s ‘Ready Player One’Sep 11, 2023Devin Coldewey We don’t often review books at TechCrunch, let alone fiction, but sometimes a work comes along that is just so carefully tuned to the ecosystem we cover that it justifies a quick post. And so heThe FTC is setting its sights on generative AISep 11, 2023Henry Hauser, Nathanael Andrews, Shylah Alfonso Generative AI startups should familiarize themselves with the parameters and limits of several common antitrust theories of harm.Snapchat partners with MTV to let users vote for VMAs through LensesSep 11, 2023Ivan Mehta MTV has partnered with Snapchat to let users vote for a Video Music Awards category through Lenses. The entertainment company is leveraging Snap’s Camera Kit to integrate AR-based experiences inApple Event 2023: How to watch the iPhone 15 reveal tomorrowSep 11, 2023Romain Dillet Apple is set to announce new iPhone models during its “Wonderlust” keynote on Tuesday at 10 AM PT (1 PM in New York, 6 PM in London, 7 PM in Paris), and you’ll be able to watch the eventMGM Resorts blames ‘cybersecurity issue’ for ongoing outageSep 11, 2023Carly Page Hotel and casino giant MGM Resorts has confirmed a “cybersecurity issue” is to blame for an ongoing outage affecting systems at the company’s Las Vegas properties. “MGM Resorts recently idiPhone 15’s shift to USB-C has hidden potential to streamline computingSep 11, 2023Darrell Etherington Apple is set to reveal the iPhone 15 at a special event held tomorrow, Tuesday September 12, and we already know a lot about what to expect thanks to rumors and supply chain sources — but this tThis week in AI: The generative AI boom drives demand for custom chipsSep 11, 2023Kyle Wiggers, Devin Coldewey Keeping up with an industry as fast-moving as AI is a tall order. So until an AI can do it for you, here’s a handy roundup of recent stories in the world of machine learning, along with notable resAI app Character.ai is catching up to ChatGPT in the USSep 11, 2023Sarah Perez Character.ai, the AI app maker that lets users design their own AI characters, is catching up to ChatGPT in terms of mobile app usage. According to a recent analysis by market intelligence firm SimilaTechstars selects 12 companies for its fall space acceleratorSep 11, 2023Aria Alamalhodaei Techstars has chosen 12 companies to join its aerospace accelerator, a 13-week program which runs in partnership with the U.S. Space Force and NASA’s Jet Propulsion Laboratory. The new cohort includIndia’s Kale Logistics raises $30M in global expansion pushSep 11, 2023Jagmeet Singh Kale Logistics Solutions, an Indian startup offering a vertical SaaS platform to assist logistics needs, has raised $30 million in a fresh funding round, as the 14-year-old startup eyes expansion in tInstacart’s IPO price range puts it close to decacorn statusSep 11, 2023Alex Wilhelm The company could sell as much as $616 million worth of its stock in its IPO.KKR invests $250 million in Reliance Retail at $100 billion valuationSep 11, 2023Manish Singh KKR is doubling down on its bet in Reliance Retail, valuing India’s largest retail chain at $100 billion in a fresh $250 million investment. The deal follows the Qatar Investment Authority investingInstacart, Klaviyo and the art of the unicorn haircutSep 11, 2023Alex Wilhelm, Theresa Loconsolo Hello, and welcome back to Equity, the podcast about the business of startups. Our Monday sh\u001b[0m\n",
            "Thought:\u001b[32;1m\u001b[1;3m{\n",
            "    \"action\": \"Final Answer\",\n",
            "    \"action_input\": \"The articles on TechCrunch are published on various dates, and the specific publication dates can be found on the website.\"\n",
            "}\u001b[0m\n",
            "\n",
            "\u001b[1m> Finished chain.\u001b[0m\n"
          ]
        },
        {
          "data": {
            "text/plain": [
              "'The articles on TechCrunch are published on various dates, and the specific publication dates can be found on the website.'"
            ]
          },
          "execution_count": 35,
          "metadata": {},
          "output_type": "execute_result"
        }
      ],
      "source": [
        "conversational_agent.run(\"When were these published?\")"
      ]
    },
    {
      "cell_type": "code",
      "execution_count": 36,
      "id": "dfc011c8",
      "metadata": {},
      "outputs": [
        {
          "name": "stdout",
          "output_type": "stream",
          "text": [
            "\n",
            "\n",
            "\u001b[1m> Entering new AgentExecutor chain...\u001b[0m\n",
            "\u001b[32;1m\u001b[1;3m{\n",
            "    \"action\": \"Get Webpage\",\n",
            "    \"action_input\": \"https://www.cbsnews.com/\"\n",
            "}\u001b[0m\n",
            "Observation: \u001b[36;1m\u001b[1;3mCBS News - Breaking news, 24/7 live streaming news & top stories9/11 Memorial EventsMorocco EarthquakeHurricane LeeTrump InvestigationsCBS News LiveManaging Your MoneyNewslettersNewsUSWorldPoliticsEntertainmentHealthWatchMoneyWatchCBS VillageTechnologyScienceCrimeSportsEssentialsFDA OK's new COVID shots for fall — here's what to knowWhat we know about the Morocco earthquakeMeteorologists on Hurricane Lee's projected path and timelineMemorial events mark 22 years since the 9/11 terror attacksBarbara Lee says Gavin Newsom's plan for Senate seat is \"insulting\"American explorer could be rescued from cave \"tonight\"Escaped Pennsylvania prisoner seen driving stolen van, police sayDisney, Charter end carriage dispute for Spectrum customersNorth Korea's Kim may be on a train headed for Russia to meet PutinShowsCBS MorningsCBS Evening News60 MinutesCBS Saturday MorningFace the NationSunday Morning48 HoursCBS ReportsCBS News MorningsAmerica DecidesPrime Time with John DickersonCBS News WeekenderThe TakeoutThe UpliftEye On AmericaThe DishHere Comes the SunPerson To PersonLiveCBS News LiveCBS News BostonCBS News TexasCBS News BaltimoreCBS News Bay AreaCBS News ChicagoCBS News ColoradoCBS News DetroitCBS News Los AngelesCBS News MiamiCBS News MinnesotaCBS News New YorkCBS News PhiladelphiaCBS News PittsburghCBS News SacramentoCBS Sports HQMixibleLocalBaltimoreBay AreaBostonChicagoColoradoDetroitLos AngelesMiamiMinnesotaNew YorkPhiladelphiaPittsburghSacramentoTexasMoreLatestVideoPhotosPodcastsIn DepthLocalA Moment With…Innovators & DisruptorsLog InNewslettersMobileRSSCBS StoreParamount+Join Our Talent CommunityDavos 2023SearchSearchLoginWatch CBS NewsLatest News                          FDA OK's new COVID shots for fall — here's what to know                              The new shots are similar to previously approved formulas but were updated to target strains of the virus descended from Omicron.        1H agoHow and where to get free COVID tests in 2023Do COVID-19 tests still work after they expire? Here's how to tell.                          What we know about the Morocco earthquake                              The Morocco earthquake​ killed scores of people and devastated​ parts of Marrakech and communities south of the major city.        14M agoMorocco quake death toll tops 2,600 as frantic rescue efforts continuePhotos from Morocco earthquake zone show widespread devastation                          Meteorologists on Hurricane Lee's projected path and timeline                              Hurricane Lee was churning slowly northwestward early Monday, whipping up rough seas along a vast section of the western Atlantic with sustained winds of 120 mph.        3H agoHurricane Lee will affect waters \"along most of the U.S. East Coast\"CBS News LiveLive                          Memorial events mark 22 years since the 9/11 terror attacks                              An annual ceremony to remember those who died on September 11, 2001​, was held in lower Manhattan on Monday.        2H ago                          Barbara Lee says Gavin Newsom's plan for Senate seat is \"insulting\"                              California Gov. Gavin Newsom said Sunday if Sen. Dianne Feinstein vacates her seat early, he won't name any of the candidates running for the seat to fill it.        2H ago                          American explorer could be rescued from cave \"tonight\"                              Mark Dickey got stuck deep in a cave when he became seriously ill during a descent in southern Turkey.        1H ago                          Escaped Pennsylvania prisoner seen driving stolen van, police say                              Police shared new surveillance images Sunday of a man believed to be Cavalcante, who seems to have shaved his facial hair. He is convicted of murder.        updated 50M ago                          Disney, Charter end carriage dispute for Spectrum customers                              The new deal means Spectrum cable customers wil\u001b[0m\n",
            "Thought:\u001b[32;1m\u001b[1;3m{\n",
            "    \"action\": \"Final Answer\",\n",
            "    \"action_input\": \"The article titled 'What we know about the Morocco earthquake' was published on CBS News. However, I don't have access to the specific publication date at the moment.\"\n",
            "}\u001b[0m\n",
            "\n",
            "\u001b[1m> Finished chain.\u001b[0m\n"
          ]
        },
        {
          "data": {
            "text/plain": [
              "\"The article titled 'What we know about the Morocco earthquake' was published on CBS News. However, I don't have access to the specific publication date at the moment.\""
            ]
          },
          "execution_count": 36,
          "metadata": {},
          "output_type": "execute_result"
        }
      ],
      "source": [
        "conversational_agent.run(\"When was What we know about the Morocco earthquake published?\")"
      ]
    },
    {
      "cell_type": "code",
      "execution_count": 37,
      "id": "c717c148",
      "metadata": {},
      "outputs": [
        {
          "name": "stdout",
          "output_type": "stream",
          "text": [
            "\n",
            "\n",
            "\u001b[1m> Entering new AgentExecutor chain...\u001b[0m\n",
            "\u001b[32;1m\u001b[1;3m{\n",
            "    \"action\": \"Get Webpage\",\n",
            "    \"action_input\": \"https://www.cbsnews.com/news/morocco-earthquake-2023-marrakech-map-death-toll-magnitude-when/\"\n",
            "}\u001b[0m\n",
            "Observation: \u001b[36;1m\u001b[1;3m    Morocco earthquake death toll, map and more key details following 6.8 magnitude disaster - CBS News9/11 Memorial EventsMorocco EarthquakeHurricane LeeTrump InvestigationsCBS News LiveManaging Your MoneyNewslettersNewsUSWorldPoliticsEntertainmentHealthWatchMoneyWatchCBS VillageTechnologyScienceCrimeSportsEssentialsFDA OK's new COVID shots for fall — here's what to knowWhat we know about the Morocco earthquakeMeteorologists on Hurricane Lee's projected path and timelineMemorial events mark 22 years since the 9/11 terror attacksBarbara Lee says Gavin Newsom's plan for Senate seat is \"insulting\"American explorer could be rescued from cave \"tonight\"Escaped Pennsylvania prisoner seen driving stolen van, police sayDisney, Charter end carriage dispute for Spectrum customersNorth Korea's Kim may be on a train headed for Russia to meet PutinShowsCBS MorningsCBS Evening News60 MinutesCBS Saturday MorningFace the NationSunday Morning48 HoursCBS ReportsCBS News MorningsAmerica DecidesPrime Time with John DickersonCBS News WeekenderThe TakeoutThe UpliftEye On AmericaThe DishHere Comes the SunPerson To PersonLiveCBS News LiveCBS News Los AngelesCBS News TexasCBS News BaltimoreCBS News Bay AreaCBS News BostonCBS News ChicagoCBS News ColoradoCBS News DetroitCBS News MiamiCBS News MinnesotaCBS News New YorkCBS News PhiladelphiaCBS News PittsburghCBS News SacramentoCBS Sports HQMixibleLocalBaltimoreBay AreaBostonChicagoColoradoDetroitLos AngelesMiamiMinnesotaNew YorkPhiladelphiaPittsburghSacramentoTexasMoreLatestVideoPhotosPodcastsIn DepthLocalA Moment With…Innovators & DisruptorsLog InNewslettersMobileRSSCBS StoreParamount+Join Our Talent CommunityDavos 2023SearchSearchLoginWatch CBS News          World          Morocco earthquake death toll, map and more key details following 6.8 magnitude disaster            By Alex Sundby          September 11, 2023 / 3:36 PM          / CBS News        Morocco quake survivors build encampments Survivors of Morocco earthquake building makeshift encampments, multiple factors slowing relief02:54The Morocco earthquake killed thousands of people and devastated parts of Marrakech and communities south of the major city. The powerful quake sent people throughout the country rushing into the streets as buildings crumbled, creating an immense need for aid.Morocco death tollAt least 2,862 people died from the earthquake, Morocco's Interior Ministry said Monday. Over 2,500 were injured.A woman is helped as she reacts to the death of relatives in an earthquake in the mountain village of Tafeghaghte, southwest of Marrakech, on September 10, 2023.                            Fadel Senna/AFP via Getty Images                          How strong was the earthquake in Morocco?The earthquake was a magnitude 6.8, which is rare for western Morocco, according to the U.S. Geological Survey. Twenty minutes after the main earthquake, a magnitude 4.9 aftershock hit the region. In 1960, between 12,000 and 15,000 people were killed when a 5.9 magnitude earthquake struck western Morocco's coastal region. No earthquakes of magnitude 6 or larger have been recorded within 300 miles of Friday's quake, according to the agency, which has records for the area dating back to 1900.In the northern part of the country, a magnitude 6.3 earthquake struck in 2016. In 2004, a magnitude 6.4 quake hit the region.Morocco earthquake mapA map shows where a devastating earthquake struck Morocco on Sept. 8, 2023.                            CBS                          Morocco is located in northwestern Africa with coastlines along the Atlantic Ocean and the Mediterranean Sea. Across the Strait of Gibraltar to the north are Spain and the British colony of Gibraltar. To Morocco's east is the country of Algeria.Where was the earthquake in Morocco?The earthquake struck near the town of Oukaïmedene in the Atlas Mountains, a rural area about 50 miles southwest of Marrakech, according to the USGS.The quake had a depth of about 16 miles, which the agency consider\u001b[0m\n",
            "Thought:\u001b[32;1m\u001b[1;3m{\n",
            "    \"action\": \"Final Answer\",\n",
            "    \"action_input\": \"September 11, 2023\"\n",
            "}\u001b[0m\n",
            "\n",
            "\u001b[1m> Finished chain.\u001b[0m\n"
          ]
        },
        {
          "data": {
            "text/plain": [
              "'September 11, 2023'"
            ]
          },
          "execution_count": 37,
          "metadata": {},
          "output_type": "execute_result"
        }
      ],
      "source": [
        "conversational_agent.run(\"When was https://www.cbsnews.com/news/morocco-earthquake-2023-marrakech-map-death-toll-magnitude-when/ published?\")"
      ]
    },
    {
      "cell_type": "code",
      "execution_count": 38,
      "id": "3e538e71",
      "metadata": {},
      "outputs": [
        {
          "name": "stdout",
          "output_type": "stream",
          "text": [
            "\n",
            "\n",
            "\u001b[1m> Entering new AgentExecutor chain...\u001b[0m\n",
            "\u001b[32;1m\u001b[1;3m{\n",
            "    \"action\": \"Get Webpage\",\n",
            "    \"action_input\": \"https://techcrunch.com/\"\n",
            "}\u001b[0m\n",
            "Observation: \u001b[36;1m\u001b[1;3m TechCrunch | Startup and Technology News  TechCrunchplus-boldTechCrunchOpen NavigationTechCrunchiPhone 15’s shift to USB-C has hidden potential to streamline computingDarrell Etherington MGM Resorts blames ‘cybersecurity issue’ for ongoing outageCarly Page TechCrunchplus-boldInstacart’s IPO price range puts it close to decacorn statusAlex Wilhelm This week in AI: The generative AI boom drives demand for custom chipsKyle Wiggers, Devin Coldewey Apple Event 2023: iPhone 15, new Apple Watches and everything else to expectBrian Heater The Latest‘Exadelic’ takes a shot at being Silicon Valley’s ‘Ready Player One’Sep 11, 2023Devin Coldewey We don’t often review books at TechCrunch, let alone fiction, but sometimes a work comes along that is just so carefully tuned to the ecosystem we cover that it justifies a quick post. And so heThe FTC is setting its sights on generative AISep 11, 2023Henry Hauser, Nathanael Andrews, Shylah Alfonso Generative AI startups should familiarize themselves with the parameters and limits of several common antitrust theories of harm.Snapchat partners with MTV to let users vote for VMAs through LensesSep 11, 2023Ivan Mehta MTV has partnered with Snapchat to let users vote for a Video Music Awards category through Lenses. The entertainment company is leveraging Snap’s Camera Kit to integrate AR-based experiences inApple Event 2023: How to watch the iPhone 15 reveal tomorrowSep 11, 2023Romain Dillet Apple is set to announce new iPhone models during its “Wonderlust” keynote on Tuesday at 10 AM PT (1 PM in New York, 6 PM in London, 7 PM in Paris), and you’ll be able to watch the eventMGM Resorts blames ‘cybersecurity issue’ for ongoing outageSep 11, 2023Carly Page Hotel and casino giant MGM Resorts has confirmed a “cybersecurity issue” is to blame for an ongoing outage affecting systems at the company’s Las Vegas properties. “MGM Resorts recently idiPhone 15’s shift to USB-C has hidden potential to streamline computingSep 11, 2023Darrell Etherington Apple is set to reveal the iPhone 15 at a special event held tomorrow, Tuesday September 12, and we already know a lot about what to expect thanks to rumors and supply chain sources — but this tThis week in AI: The generative AI boom drives demand for custom chipsSep 11, 2023Kyle Wiggers, Devin Coldewey Keeping up with an industry as fast-moving as AI is a tall order. So until an AI can do it for you, here’s a handy roundup of recent stories in the world of machine learning, along with notable resAI app Character.ai is catching up to ChatGPT in the USSep 11, 2023Sarah Perez Character.ai, the AI app maker that lets users design their own AI characters, is catching up to ChatGPT in terms of mobile app usage. According to a recent analysis by market intelligence firm SimilaTechstars selects 12 companies for its fall space acceleratorSep 11, 2023Aria Alamalhodaei Techstars has chosen 12 companies to join its aerospace accelerator, a 13-week program which runs in partnership with the U.S. Space Force and NASA’s Jet Propulsion Laboratory. The new cohort includIndia’s Kale Logistics raises $30M in global expansion pushSep 11, 2023Jagmeet Singh Kale Logistics Solutions, an Indian startup offering a vertical SaaS platform to assist logistics needs, has raised $30 million in a fresh funding round, as the 14-year-old startup eyes expansion in tInstacart’s IPO price range puts it close to decacorn statusSep 11, 2023Alex Wilhelm The company could sell as much as $616 million worth of its stock in its IPO.KKR invests $250 million in Reliance Retail at $100 billion valuationSep 11, 2023Manish Singh KKR is doubling down on its bet in Reliance Retail, valuing India’s largest retail chain at $100 billion in a fresh $250 million investment. The deal follows the Qatar Investment Authority investingInstacart, Klaviyo and the art of the unicorn haircutSep 11, 2023Alex Wilhelm, Theresa Loconsolo Hello, and welcome back to Equity, the podcast about the business of startups. Our Monday sh\u001b[0m\n",
            "Thought:\u001b[32;1m\u001b[1;3m{\n",
            "    \"action\": \"Final Answer\",\n",
            "    \"action_input\": \"I apologize, but I don't have access to the specific information about who wrote the article on Clubhouse on https://techcrunch.com/. You may need to visit the website or use other sources to find the author's name.\"\n",
            "}\u001b[0m\n",
            "\n",
            "\u001b[1m> Finished chain.\u001b[0m\n"
          ]
        },
        {
          "data": {
            "text/plain": [
              "\"I apologize, but I don't have access to the specific information about who wrote the article on Clubhouse on https://techcrunch.com/. You may need to visit the website or use other sources to find the author's name.\""
            ]
          },
          "execution_count": 38,
          "metadata": {},
          "output_type": "execute_result"
        }
      ],
      "source": [
        "conversational_agent.run(\"Who wrote it?\")"
      ]
    },
    {
      "cell_type": "code",
      "execution_count": 20,
      "id": "dabb6a4f",
      "metadata": {},
      "outputs": [
        {
          "name": "stdout",
          "output_type": "stream",
          "text": [
            "\n",
            "\n",
            "\u001b[1m> Entering new AgentExecutor chain...\u001b[0m\n",
            "\u001b[32;1m\u001b[1;3m{\n",
            "    \"action\": \"Final Answer\",\n",
            "    \"action_input\": \"Nice to meet you, Eric! I'm an AI language model created by OpenAI. How can I assist you today?\"\n",
            "}\u001b[0m\n",
            "\n",
            "\u001b[1m> Finished chain.\u001b[0m\n"
          ]
        },
        {
          "data": {
            "text/plain": [
              "\"Nice to meet you, Eric! I'm an AI language model created by OpenAI. How can I assist you today?\""
            ]
          },
          "execution_count": 20,
          "metadata": {},
          "output_type": "execute_result"
        }
      ],
      "source": [
        "conversational_agent.run(\"Hi I'm eric how do you do?\")"
      ]
    },
    {
      "cell_type": "code",
      "execution_count": 21,
      "id": "e327030b",
      "metadata": {},
      "outputs": [
        {
          "data": {
            "text/plain": [
              "ChatPromptTemplate(input_variables=['input', 'chat_history', 'agent_scratchpad'], output_parser=None, partial_variables={}, messages=[SystemMessagePromptTemplate(prompt=PromptTemplate(input_variables=[], output_parser=None, partial_variables={}, template='Assistant is a large language model trained by OpenAI.\\n\\nAssistant is designed to be able to assist with a wide range of tasks, from answering simple questions to providing in-depth explanations and discussions on a wide range of topics. As a language model, Assistant is able to generate human-like text based on the input it receives, allowing it to engage in natural-sounding conversations and provide responses that are coherent and relevant to the topic at hand.\\n\\nAssistant is constantly learning and improving, and its capabilities are constantly evolving. It is able to process and understand large amounts of text, and can use this knowledge to provide accurate and informative responses to a wide range of questions. Additionally, Assistant is able to generate its own text based on the input it receives, allowing it to engage in discussions and provide explanations and descriptions on a wide range of topics.\\n\\nOverall, Assistant is a powerful system that can help with a wide range of tasks and provide valuable insights and information on a wide range of topics. Whether you need help with a specific question or just want to have a conversation about a particular topic, Assistant is here to assist.', template_format='f-string', validate_template=True), additional_kwargs={}), MessagesPlaceholder(variable_name='chat_history'), HumanMessagePromptTemplate(prompt=PromptTemplate(input_variables=['input'], output_parser=None, partial_variables={}, template='TOOLS\\n------\\nAssistant can ask the user to use tools to look up information that may be helpful in answering the users original question. The tools the human can use are:\\n\\n> Get Webpage: Useful for when you need to get the content from a specific webpage\\n> Random number: Useful for when you need to get a random number. input should be \\'random\\'\\n> Meaning of Life: Useful for when you need to answer questions about the meaning of life. input should be MOL \\n\\nRESPONSE FORMAT INSTRUCTIONS\\n----------------------------\\n\\nWhen responding to me, please output a response in one of two formats:\\n\\n**Option 1:**\\nUse this if you want the human to use a tool.\\nMarkdown code snippet formatted in the following schema:\\n\\n```json\\n{{\\n    \"action\": string, \\\\ The action to take. Must be one of Get Webpage, Random number, Meaning of Life\\n    \"action_input\": string \\\\ The input to the action\\n}}\\n```\\n\\n**Option #2:**\\nUse this if you want to respond directly to the human. Markdown code snippet formatted in the following schema:\\n\\n```json\\n{{\\n    \"action\": \"Final Answer\",\\n    \"action_input\": string \\\\ You should put what you want to return to use here\\n}}\\n```\\n\\nUSER\\'S INPUT\\n--------------------\\nHere is the user\\'s input (remember to respond with a markdown code snippet of a json blob with a single action, and NOTHING else):\\n\\n{input}', template_format='f-string', validate_template=True), additional_kwargs={}), MessagesPlaceholder(variable_name='agent_scratchpad')])"
            ]
          },
          "execution_count": 21,
          "metadata": {},
          "output_type": "execute_result"
        }
      ],
      "source": [
        "conversational_agent.agent.llm_chain.prompt"
      ]
    },
    {
      "cell_type": "code",
      "execution_count": null,
      "id": "3db1601b",
      "metadata": {},
      "outputs": [],
      "source": []
    }
  ],
  "metadata": {
    "colab": {
      "provenance": []
    },
    "kernelspec": {
      "display_name": "Python 3",
      "language": "python",
      "name": "python3"
    },
    "language_info": {
      "codemirror_mode": {
        "name": "ipython",
        "version": 3
      },
      "file_extension": ".py",
      "mimetype": "text/x-python",
      "name": "python",
      "nbconvert_exporter": "python",
      "pygments_lexer": "ipython3",
      "version": "3.11.4"
    }
  },
  "nbformat": 4,
  "nbformat_minor": 5
}
